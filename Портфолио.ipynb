{
 "cells": [
  {
   "cell_type": "markdown",
   "id": "10f5f4df",
   "metadata": {},
   "source": [
    "# Навыки Python"
   ]
  },
  {
   "cell_type": "markdown",
   "id": "890cc016",
   "metadata": {},
   "source": [
    "##### Первый блок - Библиотека Pandas:\n",
    "    1)Получение общего представления о данных\n",
    "    2)Фильтрация данных по условию\n",
    "    3)Агрегация, группировка данных\n",
    "    4)Сортировка\n",
    "    5)Форматирование данных\n",
    "    6)Изменение структуры датафрейма\n",
    "    7)Сводные таблицы\n",
    "    8)Объединение данных из разных источников\n",
    "    9)Работа с текстовыми данными\n",
    "    10)Работа с датами\n",
    "    \n",
    "##### Второй блок - визуализация данных с помощью Matplotlib:\n",
    "    1)Графики\n",
    "    2)Диаграммы\n",
    "    3)Столбчатые диаграммы\n",
    "    4)Круговые диаграммы\n",
    "    5)Спектральные диаграммы\n",
    "    6)Поля градиентов\n",
    "    \n",
    "##### Третий блок - визуализация данных с помощью searbotn:\n",
    "    1) Парные диаграммы\n",
    "    2) Тепловая карта(кореляция)\n",
    "    3) Линейный график\n",
    "    4) Ящик с усами"
   ]
  },
  {
   "cell_type": "code",
   "execution_count": 1,
   "id": "6ae1cefd",
   "metadata": {},
   "outputs": [],
   "source": [
    "# Подключаем библиотеку\n",
    "import pandas as pd"
   ]
  },
  {
   "cell_type": "code",
   "execution_count": 2,
   "id": "719f5033",
   "metadata": {},
   "outputs": [],
   "source": [
    "# Считываем данные из файла\n",
    "df = pd.read_csv('athlete_events.csv')"
   ]
  },
  {
   "cell_type": "markdown",
   "id": "61a6eac1",
   "metadata": {},
   "source": [
    "## Получение общего представления о данных"
   ]
  },
  {
   "cell_type": "markdown",
   "id": "94ed27c3",
   "metadata": {},
   "source": [
    "### head(), tail(), info(), describe(), shape, dtypes"
   ]
  },
  {
   "cell_type": "code",
   "execution_count": 3,
   "id": "8caf3b9a",
   "metadata": {},
   "outputs": [
    {
     "data": {
      "text/html": [
       "<div>\n",
       "<style scoped>\n",
       "    .dataframe tbody tr th:only-of-type {\n",
       "        vertical-align: middle;\n",
       "    }\n",
       "\n",
       "    .dataframe tbody tr th {\n",
       "        vertical-align: top;\n",
       "    }\n",
       "\n",
       "    .dataframe thead th {\n",
       "        text-align: right;\n",
       "    }\n",
       "</style>\n",
       "<table border=\"1\" class=\"dataframe\">\n",
       "  <thead>\n",
       "    <tr style=\"text-align: right;\">\n",
       "      <th></th>\n",
       "      <th>ID</th>\n",
       "      <th>Name</th>\n",
       "      <th>Sex</th>\n",
       "      <th>Age</th>\n",
       "      <th>Height</th>\n",
       "      <th>Weight</th>\n",
       "      <th>Team</th>\n",
       "      <th>NOC</th>\n",
       "      <th>Games</th>\n",
       "      <th>Year</th>\n",
       "      <th>Season</th>\n",
       "      <th>City</th>\n",
       "      <th>Sport</th>\n",
       "      <th>Event</th>\n",
       "      <th>Medal</th>\n",
       "    </tr>\n",
       "  </thead>\n",
       "  <tbody>\n",
       "    <tr>\n",
       "      <th>0</th>\n",
       "      <td>1</td>\n",
       "      <td>A Dijiang</td>\n",
       "      <td>M</td>\n",
       "      <td>24.0</td>\n",
       "      <td>180.0</td>\n",
       "      <td>80.0</td>\n",
       "      <td>China</td>\n",
       "      <td>CHN</td>\n",
       "      <td>1992 Summer</td>\n",
       "      <td>1992</td>\n",
       "      <td>Summer</td>\n",
       "      <td>Barcelona</td>\n",
       "      <td>Basketball</td>\n",
       "      <td>Basketball Men's Basketball</td>\n",
       "      <td>NaN</td>\n",
       "    </tr>\n",
       "    <tr>\n",
       "      <th>1</th>\n",
       "      <td>2</td>\n",
       "      <td>A Lamusi</td>\n",
       "      <td>M</td>\n",
       "      <td>23.0</td>\n",
       "      <td>170.0</td>\n",
       "      <td>60.0</td>\n",
       "      <td>China</td>\n",
       "      <td>CHN</td>\n",
       "      <td>2012 Summer</td>\n",
       "      <td>2012</td>\n",
       "      <td>Summer</td>\n",
       "      <td>London</td>\n",
       "      <td>Judo</td>\n",
       "      <td>Judo Men's Extra-Lightweight</td>\n",
       "      <td>NaN</td>\n",
       "    </tr>\n",
       "  </tbody>\n",
       "</table>\n",
       "</div>"
      ],
      "text/plain": [
       "   ID       Name Sex   Age  Height  Weight   Team  NOC        Games  Year  \\\n",
       "0   1  A Dijiang   M  24.0   180.0    80.0  China  CHN  1992 Summer  1992   \n",
       "1   2   A Lamusi   M  23.0   170.0    60.0  China  CHN  2012 Summer  2012   \n",
       "\n",
       "   Season       City       Sport                         Event Medal  \n",
       "0  Summer  Barcelona  Basketball   Basketball Men's Basketball   NaN  \n",
       "1  Summer     London        Judo  Judo Men's Extra-Lightweight   NaN  "
      ]
     },
     "execution_count": 3,
     "metadata": {},
     "output_type": "execute_result"
    }
   ],
   "source": [
    "# Вывод первых 2 строк(5 по умолчанию)\n",
    "df.head(2)"
   ]
  },
  {
   "cell_type": "code",
   "execution_count": 4,
   "id": "35b6072c",
   "metadata": {},
   "outputs": [
    {
     "data": {
      "text/html": [
       "<div>\n",
       "<style scoped>\n",
       "    .dataframe tbody tr th:only-of-type {\n",
       "        vertical-align: middle;\n",
       "    }\n",
       "\n",
       "    .dataframe tbody tr th {\n",
       "        vertical-align: top;\n",
       "    }\n",
       "\n",
       "    .dataframe thead th {\n",
       "        text-align: right;\n",
       "    }\n",
       "</style>\n",
       "<table border=\"1\" class=\"dataframe\">\n",
       "  <thead>\n",
       "    <tr style=\"text-align: right;\">\n",
       "      <th></th>\n",
       "      <th>ID</th>\n",
       "      <th>Name</th>\n",
       "      <th>Sex</th>\n",
       "      <th>Age</th>\n",
       "      <th>Height</th>\n",
       "      <th>Weight</th>\n",
       "      <th>Team</th>\n",
       "      <th>NOC</th>\n",
       "      <th>Games</th>\n",
       "      <th>Year</th>\n",
       "      <th>Season</th>\n",
       "      <th>City</th>\n",
       "      <th>Sport</th>\n",
       "      <th>Event</th>\n",
       "      <th>Medal</th>\n",
       "    </tr>\n",
       "  </thead>\n",
       "  <tbody>\n",
       "    <tr>\n",
       "      <th>271114</th>\n",
       "      <td>135571</td>\n",
       "      <td>Tomasz Ireneusz ya</td>\n",
       "      <td>M</td>\n",
       "      <td>30.0</td>\n",
       "      <td>185.0</td>\n",
       "      <td>96.0</td>\n",
       "      <td>Poland</td>\n",
       "      <td>POL</td>\n",
       "      <td>1998 Winter</td>\n",
       "      <td>1998</td>\n",
       "      <td>Winter</td>\n",
       "      <td>Nagano</td>\n",
       "      <td>Bobsleigh</td>\n",
       "      <td>Bobsleigh Men's Four</td>\n",
       "      <td>NaN</td>\n",
       "    </tr>\n",
       "    <tr>\n",
       "      <th>271115</th>\n",
       "      <td>135571</td>\n",
       "      <td>Tomasz Ireneusz ya</td>\n",
       "      <td>M</td>\n",
       "      <td>34.0</td>\n",
       "      <td>185.0</td>\n",
       "      <td>96.0</td>\n",
       "      <td>Poland</td>\n",
       "      <td>POL</td>\n",
       "      <td>2002 Winter</td>\n",
       "      <td>2002</td>\n",
       "      <td>Winter</td>\n",
       "      <td>Salt Lake City</td>\n",
       "      <td>Bobsleigh</td>\n",
       "      <td>Bobsleigh Men's Four</td>\n",
       "      <td>NaN</td>\n",
       "    </tr>\n",
       "  </tbody>\n",
       "</table>\n",
       "</div>"
      ],
      "text/plain": [
       "            ID                Name Sex   Age  Height  Weight    Team  NOC  \\\n",
       "271114  135571  Tomasz Ireneusz ya   M  30.0   185.0    96.0  Poland  POL   \n",
       "271115  135571  Tomasz Ireneusz ya   M  34.0   185.0    96.0  Poland  POL   \n",
       "\n",
       "              Games  Year  Season            City      Sport  \\\n",
       "271114  1998 Winter  1998  Winter          Nagano  Bobsleigh   \n",
       "271115  2002 Winter  2002  Winter  Salt Lake City  Bobsleigh   \n",
       "\n",
       "                       Event Medal  \n",
       "271114  Bobsleigh Men's Four   NaN  \n",
       "271115  Bobsleigh Men's Four   NaN  "
      ]
     },
     "execution_count": 4,
     "metadata": {},
     "output_type": "execute_result"
    }
   ],
   "source": [
    "# Вывод последних 2 строк(5 по умолчанию), количество можно указать\n",
    "df.tail(2)"
   ]
  },
  {
   "cell_type": "code",
   "execution_count": 5,
   "id": "ca52a472",
   "metadata": {},
   "outputs": [
    {
     "name": "stdout",
     "output_type": "stream",
     "text": [
      "<class 'pandas.core.frame.DataFrame'>\n",
      "RangeIndex: 271116 entries, 0 to 271115\n",
      "Data columns (total 15 columns):\n",
      " #   Column  Non-Null Count   Dtype  \n",
      "---  ------  --------------   -----  \n",
      " 0   ID      271116 non-null  int64  \n",
      " 1   Name    271116 non-null  object \n",
      " 2   Sex     271116 non-null  object \n",
      " 3   Age     261642 non-null  float64\n",
      " 4   Height  210945 non-null  float64\n",
      " 5   Weight  208241 non-null  float64\n",
      " 6   Team    271116 non-null  object \n",
      " 7   NOC     271116 non-null  object \n",
      " 8   Games   271116 non-null  object \n",
      " 9   Year    271116 non-null  int64  \n",
      " 10  Season  271116 non-null  object \n",
      " 11  City    271116 non-null  object \n",
      " 12  Sport   271116 non-null  object \n",
      " 13  Event   271116 non-null  object \n",
      " 14  Medal   39783 non-null   object \n",
      "dtypes: float64(3), int64(2), object(10)\n",
      "memory usage: 31.0+ MB\n"
     ]
    }
   ],
   "source": [
    "# Получение общей информации о датасете\n",
    "df.info()"
   ]
  },
  {
   "cell_type": "code",
   "execution_count": 6,
   "id": "fd1c635d",
   "metadata": {},
   "outputs": [
    {
     "data": {
      "text/html": [
       "<div>\n",
       "<style scoped>\n",
       "    .dataframe tbody tr th:only-of-type {\n",
       "        vertical-align: middle;\n",
       "    }\n",
       "\n",
       "    .dataframe tbody tr th {\n",
       "        vertical-align: top;\n",
       "    }\n",
       "\n",
       "    .dataframe thead th {\n",
       "        text-align: right;\n",
       "    }\n",
       "</style>\n",
       "<table border=\"1\" class=\"dataframe\">\n",
       "  <thead>\n",
       "    <tr style=\"text-align: right;\">\n",
       "      <th></th>\n",
       "      <th>ID</th>\n",
       "      <th>Age</th>\n",
       "      <th>Height</th>\n",
       "      <th>Weight</th>\n",
       "      <th>Year</th>\n",
       "    </tr>\n",
       "  </thead>\n",
       "  <tbody>\n",
       "    <tr>\n",
       "      <th>count</th>\n",
       "      <td>271116.000000</td>\n",
       "      <td>261642.000000</td>\n",
       "      <td>210945.000000</td>\n",
       "      <td>208241.000000</td>\n",
       "      <td>271116.000000</td>\n",
       "    </tr>\n",
       "    <tr>\n",
       "      <th>mean</th>\n",
       "      <td>68248.954396</td>\n",
       "      <td>25.556898</td>\n",
       "      <td>175.338970</td>\n",
       "      <td>70.702393</td>\n",
       "      <td>1978.378480</td>\n",
       "    </tr>\n",
       "    <tr>\n",
       "      <th>std</th>\n",
       "      <td>39022.286345</td>\n",
       "      <td>6.393561</td>\n",
       "      <td>10.518462</td>\n",
       "      <td>14.348020</td>\n",
       "      <td>29.877632</td>\n",
       "    </tr>\n",
       "    <tr>\n",
       "      <th>min</th>\n",
       "      <td>1.000000</td>\n",
       "      <td>10.000000</td>\n",
       "      <td>127.000000</td>\n",
       "      <td>25.000000</td>\n",
       "      <td>1896.000000</td>\n",
       "    </tr>\n",
       "    <tr>\n",
       "      <th>25%</th>\n",
       "      <td>34643.000000</td>\n",
       "      <td>21.000000</td>\n",
       "      <td>168.000000</td>\n",
       "      <td>60.000000</td>\n",
       "      <td>1960.000000</td>\n",
       "    </tr>\n",
       "    <tr>\n",
       "      <th>50%</th>\n",
       "      <td>68205.000000</td>\n",
       "      <td>24.000000</td>\n",
       "      <td>175.000000</td>\n",
       "      <td>70.000000</td>\n",
       "      <td>1988.000000</td>\n",
       "    </tr>\n",
       "    <tr>\n",
       "      <th>75%</th>\n",
       "      <td>102097.250000</td>\n",
       "      <td>28.000000</td>\n",
       "      <td>183.000000</td>\n",
       "      <td>79.000000</td>\n",
       "      <td>2002.000000</td>\n",
       "    </tr>\n",
       "    <tr>\n",
       "      <th>max</th>\n",
       "      <td>135571.000000</td>\n",
       "      <td>97.000000</td>\n",
       "      <td>226.000000</td>\n",
       "      <td>214.000000</td>\n",
       "      <td>2016.000000</td>\n",
       "    </tr>\n",
       "  </tbody>\n",
       "</table>\n",
       "</div>"
      ],
      "text/plain": [
       "                  ID            Age         Height         Weight  \\\n",
       "count  271116.000000  261642.000000  210945.000000  208241.000000   \n",
       "mean    68248.954396      25.556898     175.338970      70.702393   \n",
       "std     39022.286345       6.393561      10.518462      14.348020   \n",
       "min         1.000000      10.000000     127.000000      25.000000   \n",
       "25%     34643.000000      21.000000     168.000000      60.000000   \n",
       "50%     68205.000000      24.000000     175.000000      70.000000   \n",
       "75%    102097.250000      28.000000     183.000000      79.000000   \n",
       "max    135571.000000      97.000000     226.000000     214.000000   \n",
       "\n",
       "                Year  \n",
       "count  271116.000000  \n",
       "mean     1978.378480  \n",
       "std        29.877632  \n",
       "min      1896.000000  \n",
       "25%      1960.000000  \n",
       "50%      1988.000000  \n",
       "75%      2002.000000  \n",
       "max      2016.000000  "
      ]
     },
     "execution_count": 6,
     "metadata": {},
     "output_type": "execute_result"
    }
   ],
   "source": [
    "# Получение статистической информации о датасете, по умолчанию для числовых колонок\n",
    "df.describe()"
   ]
  },
  {
   "cell_type": "code",
   "execution_count": 7,
   "id": "8d7d7691",
   "metadata": {},
   "outputs": [
    {
     "data": {
      "text/plain": [
       "(271116, 15)"
      ]
     },
     "execution_count": 7,
     "metadata": {},
     "output_type": "execute_result"
    }
   ],
   "source": [
    "# Размерность датасета\n",
    "df.shape"
   ]
  },
  {
   "cell_type": "code",
   "execution_count": 8,
   "id": "17e250c3",
   "metadata": {},
   "outputs": [
    {
     "data": {
      "text/plain": [
       "ID          int64\n",
       "Name       object\n",
       "Sex        object\n",
       "Age       float64\n",
       "Height    float64\n",
       "Weight    float64\n",
       "Team       object\n",
       "NOC        object\n",
       "Games      object\n",
       "Year        int64\n",
       "Season     object\n",
       "City       object\n",
       "Sport      object\n",
       "Event      object\n",
       "Medal      object\n",
       "dtype: object"
      ]
     },
     "execution_count": 8,
     "metadata": {},
     "output_type": "execute_result"
    }
   ],
   "source": [
    "# Типы данных\n",
    "df.dtypes"
   ]
  },
  {
   "cell_type": "code",
   "execution_count": 9,
   "id": "7e2ef1ad",
   "metadata": {},
   "outputs": [
    {
     "data": {
      "text/plain": [
       "Index(['ID', 'Name', 'Sex', 'Age', 'Height', 'Weight', 'Team', 'NOC', 'Games',\n",
       "       'Year', 'Season', 'City', 'Sport', 'Event', 'Medal'],\n",
       "      dtype='object')"
      ]
     },
     "execution_count": 9,
     "metadata": {},
     "output_type": "execute_result"
    }
   ],
   "source": [
    "# Названия столбцов\n",
    "df.columns"
   ]
  },
  {
   "cell_type": "code",
   "execution_count": 10,
   "id": "24996936",
   "metadata": {},
   "outputs": [
    {
     "data": {
      "text/plain": [
       "pandas.core.series.Series"
      ]
     },
     "execution_count": 10,
     "metadata": {},
     "output_type": "execute_result"
    }
   ],
   "source": [
    "# Тип датасета\n",
    "type(df.dtypes)"
   ]
  },
  {
   "cell_type": "code",
   "execution_count": 11,
   "id": "95cdc957",
   "metadata": {},
   "outputs": [
    {
     "data": {
      "text/plain": [
       "271116"
      ]
     },
     "execution_count": 11,
     "metadata": {},
     "output_type": "execute_result"
    }
   ],
   "source": [
    "# Размер датасета\n",
    "len(df)"
   ]
  },
  {
   "cell_type": "markdown",
   "id": "ed9a7192",
   "metadata": {},
   "source": [
    "## Методы loc и iloc для доступа к данным датасета"
   ]
  },
  {
   "cell_type": "code",
   "execution_count": 12,
   "id": "ff0a4bdd",
   "metadata": {},
   "outputs": [
    {
     "data": {
      "text/html": [
       "<div>\n",
       "<style scoped>\n",
       "    .dataframe tbody tr th:only-of-type {\n",
       "        vertical-align: middle;\n",
       "    }\n",
       "\n",
       "    .dataframe tbody tr th {\n",
       "        vertical-align: top;\n",
       "    }\n",
       "\n",
       "    .dataframe thead th {\n",
       "        text-align: right;\n",
       "    }\n",
       "</style>\n",
       "<table border=\"1\" class=\"dataframe\">\n",
       "  <thead>\n",
       "    <tr style=\"text-align: right;\">\n",
       "      <th></th>\n",
       "      <th>ID</th>\n",
       "      <th>Name</th>\n",
       "      <th>Sex</th>\n",
       "      <th>Age</th>\n",
       "      <th>Height</th>\n",
       "      <th>Weight</th>\n",
       "    </tr>\n",
       "  </thead>\n",
       "  <tbody>\n",
       "    <tr>\n",
       "      <th>1</th>\n",
       "      <td>2</td>\n",
       "      <td>A Lamusi</td>\n",
       "      <td>M</td>\n",
       "      <td>23.0</td>\n",
       "      <td>170.0</td>\n",
       "      <td>60.0</td>\n",
       "    </tr>\n",
       "    <tr>\n",
       "      <th>11</th>\n",
       "      <td>6</td>\n",
       "      <td>Per Knut Aaland</td>\n",
       "      <td>M</td>\n",
       "      <td>31.0</td>\n",
       "      <td>188.0</td>\n",
       "      <td>75.0</td>\n",
       "    </tr>\n",
       "  </tbody>\n",
       "</table>\n",
       "</div>"
      ],
      "text/plain": [
       "    ID             Name Sex   Age  Height  Weight\n",
       "1    2         A Lamusi   M  23.0   170.0    60.0\n",
       "11   6  Per Knut Aaland   M  31.0   188.0    75.0"
      ]
     },
     "execution_count": 12,
     "metadata": {},
     "output_type": "execute_result"
    }
   ],
   "source": [
    "df.iloc[1:100:10,0:6].head(2) #имя файла.индекс столбца[срез с какой по какую строку:шаг,с какого по какой столбец]"
   ]
  },
  {
   "cell_type": "code",
   "execution_count": 13,
   "id": "a4fd6466",
   "metadata": {},
   "outputs": [
    {
     "data": {
      "text/html": [
       "<div>\n",
       "<style scoped>\n",
       "    .dataframe tbody tr th:only-of-type {\n",
       "        vertical-align: middle;\n",
       "    }\n",
       "\n",
       "    .dataframe tbody tr th {\n",
       "        vertical-align: top;\n",
       "    }\n",
       "\n",
       "    .dataframe thead th {\n",
       "        text-align: right;\n",
       "    }\n",
       "</style>\n",
       "<table border=\"1\" class=\"dataframe\">\n",
       "  <thead>\n",
       "    <tr style=\"text-align: right;\">\n",
       "      <th></th>\n",
       "      <th>ID</th>\n",
       "      <th>Team</th>\n",
       "    </tr>\n",
       "  </thead>\n",
       "  <tbody>\n",
       "    <tr>\n",
       "      <th>0</th>\n",
       "      <td>1</td>\n",
       "      <td>China</td>\n",
       "    </tr>\n",
       "    <tr>\n",
       "      <th>1</th>\n",
       "      <td>2</td>\n",
       "      <td>China</td>\n",
       "    </tr>\n",
       "  </tbody>\n",
       "</table>\n",
       "</div>"
      ],
      "text/plain": [
       "   ID   Team\n",
       "0   1  China\n",
       "1   2  China"
      ]
     },
     "execution_count": 13,
     "metadata": {},
     "output_type": "execute_result"
    }
   ],
   "source": [
    "df.loc[:,['ID','Team']].head(2)"
   ]
  },
  {
   "cell_type": "code",
   "execution_count": 14,
   "id": "0d2a42d2",
   "metadata": {},
   "outputs": [
    {
     "data": {
      "text/html": [
       "<div>\n",
       "<style scoped>\n",
       "    .dataframe tbody tr th:only-of-type {\n",
       "        vertical-align: middle;\n",
       "    }\n",
       "\n",
       "    .dataframe tbody tr th {\n",
       "        vertical-align: top;\n",
       "    }\n",
       "\n",
       "    .dataframe thead th {\n",
       "        text-align: right;\n",
       "    }\n",
       "</style>\n",
       "<table border=\"1\" class=\"dataframe\">\n",
       "  <thead>\n",
       "    <tr style=\"text-align: right;\">\n",
       "      <th></th>\n",
       "      <th>Team</th>\n",
       "      <th>NOC</th>\n",
       "      <th>Games</th>\n",
       "    </tr>\n",
       "  </thead>\n",
       "  <tbody>\n",
       "    <tr>\n",
       "      <th>1</th>\n",
       "      <td>China</td>\n",
       "      <td>CHN</td>\n",
       "      <td>2012 Summer</td>\n",
       "    </tr>\n",
       "    <tr>\n",
       "      <th>2</th>\n",
       "      <td>Denmark</td>\n",
       "      <td>DEN</td>\n",
       "      <td>1920 Summer</td>\n",
       "    </tr>\n",
       "  </tbody>\n",
       "</table>\n",
       "</div>"
      ],
      "text/plain": [
       "      Team  NOC        Games\n",
       "1    China  CHN  2012 Summer\n",
       "2  Denmark  DEN  1920 Summer"
      ]
     },
     "execution_count": 14,
     "metadata": {},
     "output_type": "execute_result"
    }
   ],
   "source": [
    "df.loc[1:5,['Team','NOC','Games']].head(2)"
   ]
  },
  {
   "cell_type": "markdown",
   "id": "3d5e6052",
   "metadata": {},
   "source": [
    "## Фильтрация данных по условию"
   ]
  },
  {
   "cell_type": "code",
   "execution_count": 15,
   "id": "ad82d731",
   "metadata": {},
   "outputs": [
    {
     "data": {
      "text/plain": [
       "0    False\n",
       "1    False\n",
       "Name: Age, dtype: bool"
      ]
     },
     "execution_count": 15,
     "metadata": {},
     "output_type": "execute_result"
    }
   ],
   "source": [
    "# Формируем условие для фильтра\n",
    "a = df['Age']<20\n",
    "a.head(2)"
   ]
  },
  {
   "cell_type": "code",
   "execution_count": 16,
   "id": "267059ee",
   "metadata": {},
   "outputs": [
    {
     "data": {
      "text/html": [
       "<div>\n",
       "<style scoped>\n",
       "    .dataframe tbody tr th:only-of-type {\n",
       "        vertical-align: middle;\n",
       "    }\n",
       "\n",
       "    .dataframe tbody tr th {\n",
       "        vertical-align: top;\n",
       "    }\n",
       "\n",
       "    .dataframe thead th {\n",
       "        text-align: right;\n",
       "    }\n",
       "</style>\n",
       "<table border=\"1\" class=\"dataframe\">\n",
       "  <thead>\n",
       "    <tr style=\"text-align: right;\">\n",
       "      <th></th>\n",
       "      <th>ID</th>\n",
       "      <th>Name</th>\n",
       "      <th>Sex</th>\n",
       "      <th>Age</th>\n",
       "      <th>Height</th>\n",
       "      <th>Weight</th>\n",
       "      <th>Team</th>\n",
       "      <th>NOC</th>\n",
       "      <th>Games</th>\n",
       "      <th>Year</th>\n",
       "      <th>Season</th>\n",
       "      <th>City</th>\n",
       "      <th>Sport</th>\n",
       "      <th>Event</th>\n",
       "      <th>Medal</th>\n",
       "    </tr>\n",
       "  </thead>\n",
       "  <tbody>\n",
       "    <tr>\n",
       "      <th>203</th>\n",
       "      <td>96</td>\n",
       "      <td>Carlos Rodolfo Abaunza Balladares</td>\n",
       "      <td>M</td>\n",
       "      <td>18.0</td>\n",
       "      <td>168.0</td>\n",
       "      <td>60.0</td>\n",
       "      <td>Nicaragua</td>\n",
       "      <td>NCA</td>\n",
       "      <td>2004 Summer</td>\n",
       "      <td>2004</td>\n",
       "      <td>Summer</td>\n",
       "      <td>Athina</td>\n",
       "      <td>Athletics</td>\n",
       "      <td>Athletics Men's 100 metres</td>\n",
       "      <td>NaN</td>\n",
       "    </tr>\n",
       "    <tr>\n",
       "      <th>204</th>\n",
       "      <td>97</td>\n",
       "      <td>Carlos Alberto Abaunza</td>\n",
       "      <td>M</td>\n",
       "      <td>16.0</td>\n",
       "      <td>180.0</td>\n",
       "      <td>70.0</td>\n",
       "      <td>Nicaragua</td>\n",
       "      <td>NCA</td>\n",
       "      <td>1976 Summer</td>\n",
       "      <td>1976</td>\n",
       "      <td>Summer</td>\n",
       "      <td>Montreal</td>\n",
       "      <td>Athletics</td>\n",
       "      <td>Athletics Men's High Jump</td>\n",
       "      <td>NaN</td>\n",
       "    </tr>\n",
       "  </tbody>\n",
       "</table>\n",
       "</div>"
      ],
      "text/plain": [
       "     ID                               Name Sex   Age  Height  Weight  \\\n",
       "203  96  Carlos Rodolfo Abaunza Balladares   M  18.0   168.0    60.0   \n",
       "204  97             Carlos Alberto Abaunza   M  16.0   180.0    70.0   \n",
       "\n",
       "          Team  NOC        Games  Year  Season      City      Sport  \\\n",
       "203  Nicaragua  NCA  2004 Summer  2004  Summer    Athina  Athletics   \n",
       "204  Nicaragua  NCA  1976 Summer  1976  Summer  Montreal  Athletics   \n",
       "\n",
       "                          Event Medal  \n",
       "203  Athletics Men's 100 metres   NaN  \n",
       "204   Athletics Men's High Jump   NaN  "
      ]
     },
     "execution_count": 16,
     "metadata": {},
     "output_type": "execute_result"
    }
   ],
   "source": [
    "# Получаем данные по условию\n",
    "df[a][df[a]['Sex']=='M'].head(2)"
   ]
  },
  {
   "cell_type": "code",
   "execution_count": 17,
   "id": "e9965f0a",
   "metadata": {},
   "outputs": [
    {
     "data": {
      "text/plain": [
       "['Luc Abalo',\n",
       " 'William Accambray',\n",
       " 'Nicola Virginia Adams',\n",
       " 'Valerie Kasanita Adams-Vili (-Price)',\n",
       " 'Filip Kamil Adamski',\n",
       " 'Adenzia Aparecida Ferreira da Silva',\n",
       " 'Nathan Ghar-Jun Adrian',\n",
       " 'Nathan Ghar-Jun Adrian',\n",
       " 'Marilyn Agliotti',\n",
       " 'Yannick Agnel',\n",
       " 'Yannick Agnel',\n",
       " 'Charles Benedict \"Ben\" Ainslie',\n",
       " 'Marina Alabau Neira',\n",
       " 'Jo Qesem Ayela Aleh',\n",
       " 'Ida Alstad',\n",
       " 'An Kum-Ae',\n",
       " 'Alyssa Jean Anderson',\n",
       " 'Carmelo Kyan Anthony',\n",
       " 'Nataliya Nikolayevna Antyukh',\n",
       " 'Nikolay Sergeyevich Apalikov',\n",
       " 'Javier Ignacio Aquino Carmona',\n",
       " 'Elizabeth \"Betsey\" Armstrong',\n",
       " 'Kristin Ann Armstrong (-Savola)',\n",
       " 'Laura Asadauskait-Zadneprovskien',\n",
       " 'Valerio Aspromonte',\n",
       " 'Sandra Auffarth',\n",
       " 'Seimone Delicia Augustus',\n",
       " 'Giorgio Avola',\n",
       " 'Viktoriya Fyodorovna \"Vika\" Azarenko',\n",
       " 'Kemar Bailey-Cole',\n",
       " 'Timothy \"Tim\" Baillie',\n",
       " 'Keshia Chantay Baker (-Kirtz)',\n",
       " 'Andrea Baldini',\n",
       " 'Samir Bara',\n",
       " 'Xavier Barachet',\n",
       " 'Anna Rose Bebington-Watkins',\n",
       " 'Laura Bechtolsheimer (-Tomlinson)',\n",
       " 'Mathew Belcher',\n",
       " 'Richard \"Ricky\" Berens',\n",
       " 'Yury Viktorovich Berezhko',\n",
       " 'Krisztin Berki',\n",
       " 'Alain Andr Louis Edmond Bernard',\n",
       " 'Jamie Lynn Beyerle-Gray (-Corkish)',\n",
       " 'Suzanne Brigit \"Sue\" Bird',\n",
       " 'Yohan Blake',\n",
       " 'Anastasiya Ilyinichna Bliznyuk',\n",
       " 'Usain St. Leo Bolt',\n",
       " 'Usain St. Leo Bolt',\n",
       " 'Usain St. Leo Bolt',\n",
       " 'Hamish Byron Bond',\n",
       " 'Rachel Kristine Bootsma',\n",
       " 'Miho Bokovi',\n",
       " 'David Alasdair Boudia',\n",
       " 'Shannon Leigh Boxx',\n",
       " 'Scott Brash',\n",
       " 'Karoline Charlotte Dyhre Breivang',\n",
       " 'Sebastian Brendel',\n",
       " 'Julie Bresset',\n",
       " 'Julius Brink',\n",
       " 'Matthew Brittain',\n",
       " 'Christopher Deon \"Chris\" Brown',\n",
       " 'Alistair Edward Brownlee',\n",
       " 'Robert Charles \"Bob\" Bryan',\n",
       " 'Michael Carl \"Mike\" Bryan',\n",
       " 'Kobe Bean Bryant',\n",
       " 'Rachel Marie Buehler (-Van Hollebeke)',\n",
       " 'Ivan Buljubai',\n",
       " 'Damir Buri',\n",
       " 'Steven James Burke',\n",
       " 'Jordan Ernest Burroughs',\n",
       " 'Andro Bulje',\n",
       " 'Aleksandr Anatolyevich Butko',\n",
       " 'Erin Jane Cafaro (-McKenzie)',\n",
       " 'Cai Yun',\n",
       " 'Asl akr (-Alptekin)',\n",
       " 'Cate Natalie Campbell',\n",
       " 'Luke Campbell',\n",
       " 'Niccol Campriani',\n",
       " 'Cao Yuan',\n",
       " 'Lisa Carrington',\n",
       " 'Nesta Carter',\n",
       " 'Swintayla Marie \"Swin\" Cash',\n",
       " 'Andrea Cassar',\n",
       " 'Tamika Devonne Catchings',\n",
       " 'Giovanni Cernogoraz',\n",
       " 'Tyson Cleotis Chandler',\n",
       " 'Peter Charles',\n",
       " 'Tina Alexandria Charles',\n",
       " 'Darvin Francisco Chvez Ramrez',\n",
       " 'Yuriy Volodymyrovych Cheban',\n",
       " 'Chen Ding',\n",
       " 'Chen Ruolin',\n",
       " 'Chen Ruolin',\n",
       " 'Chen Yibing',\n",
       " 'Lauren Nicole Cheney (-Holiday)',\n",
       " 'Anna Vladimirovna Chicherova',\n",
       " 'Zulfiya Salakharovna Chinshanlo',\n",
       " 'Choi Hyeon-Ju',\n",
       " 'Edward \"Ed\" Clancy',\n",
       " 'Scott Tyler Clary',\n",
       " 'Jacob Clear',\n",
       " 'Nathan Cohen',\n",
       " 'Katherine Sarah \"Kat\" Copeland',\n",
       " 'Jos de Jess Corona Rodrguez',\n",
       " 'Javier Corts Granados',\n",
       " 'Alicia Jayne Coutts',\n",
       " 'Kameryn Louise \"Kami\" Craig',\n",
       " 'Sebastian Eduardo Crismanich',\n",
       " 'Caryn Davies',\n",
       " 'Anthony Marshon Davis, Jr.',\n",
       " 'Anastasiya Semyonovna Davydova',\n",
       " 'Merel Manon de Blaey',\n",
       " 'Eva Roma Maria de Goede',\n",
       " 'Lucie Dcosse',\n",
       " 'Oskar Deecke',\n",
       " 'Meseret Defar Tola',\n",
       " 'Yana Mykhailivna Dementieva',\n",
       " 'Deng Linlin',\n",
       " 'Elisa Di Francisca',\n",
       " 'Elisa Di Francisca',\n",
       " 'Tirunesh Dibaba Keneni',\n",
       " 'Tina Dietze',\n",
       " 'Didier Dominique Dinart',\n",
       " 'Ding Ning',\n",
       " 'Carlien Clemens Dirkse van den Heuvel',\n",
       " 'Diamond Brittany Dixon',\n",
       " 'Nika Dobud',\n",
       " 'Rudolf Dombi',\n",
       " 'Claire Christine Donahue',\n",
       " 'Dong Dong',\n",
       " 'Ulyana Vyacheslavovna Donskova',\n",
       " 'Giovani dos Santos Ramrez',\n",
       " 'Gabrielle Christina Victoria \"Gabby\" Douglas',\n",
       " 'Gabrielle Christina Victoria \"Gabby\" Douglas',\n",
       " 'Nataliya Viktorivna Dovhodko',\n",
       " 'Annika Elise Madsen Dries',\n",
       " 'Alexander Mah Owens Drysdale',\n",
       " 'Kseniya Pavlovna Dudkina',\n",
       " 'Charlotte Susan Jane Dujardin',\n",
       " 'Charlotte Susan Jane Dujardin',\n",
       " 'Kevin Wayne Durant',\n",
       " 'Conor James Dwyer',\n",
       " 'Aleksandr Igorevich Dyachenko',\n",
       " 'Ashton James Eaton',\n",
       " 'Tmara Echegoyen Domnguez',\n",
       " 'Brittany Joyce Elmslie',\n",
       " 'Jessica Phyllis Ennis-Hill',\n",
       " 'Jorge Enrquez Garca',\n",
       " 'Arianna Errigo',\n",
       " 'Tony Estanguet',\n",
       " 'Fabiana \"Fabi\" Alvim de Oliveira',\n",
       " 'Marco Jhonfai Fabin de la Mora',\n",
       " 'Fabiana Marcelino Claudino',\n",
       " 'Mohamed Muktar Jama \"Mo\" Farah',\n",
       " 'Mohamed Muktar Jama \"Mo\" Farah',\n",
       " 'Krisztina Fazekas Zur',\n",
       " 'Allyson Michelle Felix',\n",
       " 'Allyson Michelle Felix',\n",
       " 'Allyson Michelle Felix',\n",
       " 'Feng Zhe',\n",
       " 'Feng Zhe',\n",
       " 'Emilie Fer',\n",
       " 'Jrme Fernandez',\n",
       " 'Fernanda \"Fernandinha\" Ferreira',\n",
       " 'Sylvia Shaqueria Fowles',\n",
       " 'Marit Malm Frafjord',\n",
       " 'Zsuzsanna \"Susan\" Francia',\n",
       " 'Michele Frangilli',\n",
       " 'Melissa Jeanette \"Missy\" Franklin',\n",
       " 'Melissa Jeanette \"Missy\" Franklin',\n",
       " 'Melissa Jeanette \"Missy\" Franklin',\n",
       " 'Melissa Jeanette \"Missy\" Franklin',\n",
       " 'Shelly-Ann Fraser-Pryce',\n",
       " 'Michael Audley Frater',\n",
       " 'Fu Haifeng',\n",
       " 'Florian Fuchs',\n",
       " 'Moritz Frste',\n",
       " 'Marco Galiazzo',\n",
       " 'Arsen Zhorayevich Galstyan',\n",
       " 'Fernanda Garay Rodrigues',\n",
       " 'Erba Tiki Gelana',\n",
       " 'Bertrand Fabien Gille',\n",
       " 'Guillaume Alain Gille',\n",
       " 'Fabien Pierre Aurlien Dominique Gilot',\n",
       " 'Helen Rachel M. Glover',\n",
       " 'Maartje Goderie',\n",
       " 'Joel Gonzlez Bonilla',\n",
       " 'Katherine Jane Grainger',\n",
       " 'Sergey Yuryevich Grankin',\n",
       " 'Alexander John \"Alex\" Gregory',\n",
       " 'Matthew \"Matt\" Grevers',\n",
       " 'Matthew \"Matt\" Grevers',\n",
       " 'Kari Aalvik Grimsb',\n",
       " 'Tim Grohmann',\n",
       " 'Mariya Igorevna Gromova',\n",
       " 'Gu Bon-Gil',\n",
       " 'Steve Guerdat',\n",
       " 'Michal Yves Robert Guigou',\n",
       " 'Guo Weiyang',\n",
       " 'Guo Wenjun',\n",
       " 'Guo Yue',\n",
       " 'Dniel Gyurta',\n",
       " 'Vincent Hancock',\n",
       " 'Martin Hner',\n",
       " 'Brendan Joseph Hansen',\n",
       " 'Lasse Norman Hansen',\n",
       " 'Katrine Lunde Haraldsen',\n",
       " 'James Edward Harden, Jr.',\n",
       " 'Jessica Adele Hardy (-Meichtry)',\n",
       " 'Kayla Harrison',\n",
       " 'Robert Harting',\n",
       " 'Tobias Constantin Hauke',\n",
       " 'He Zi',\n",
       " 'Tobin Powell Heath',\n",
       " 'Camilla Herrem',\n",
       " 'Hctor Miguel Herrera Lpez',\n",
       " 'Carl Rupert Hester',\n",
       " 'Philip Hindes',\n",
       " 'Igor Hini',\n",
       " 'Samuel Honrubia',\n",
       " 'Ellen Marijn Hoog',\n",
       " 'Sophie Hannah Marguerite Hosking',\n",
       " 'Charles \"Charlie\" Houchin',\n",
       " 'Christopher Andrew \"Chris\" Hoy',\n",
       " 'Christopher Andrew \"Chris\" Hoy',\n",
       " 'Hwang Gyeong-Seon',\n",
       " 'Kaori Icho',\n",
       " 'Roniel Iglesias Sotolongo',\n",
       " 'Andre Tyler Iguodala',\n",
       " 'Ilya Aleksandrovich Ilyin',\n",
       " 'Dmitry Sergeyevich Ilyinykh',\n",
       " 'Mansur Mustafayevich Isayev',\n",
       " 'Nataliya Sergeyevna Ishchenko',\n",
       " 'Nataliya Sergeyevna Ishchenko',\n",
       " 'Sandra Raluca Izbaa',\n",
       " 'Kirani James',\n",
       " 'LeBron Raymone James',\n",
       " 'Thomas Watkin \"Tom\" James',\n",
       " 'Jaqueline Maria \"Jaque\" Pereira de Carvalho Endres',\n",
       " 'Iain Jensen',\n",
       " 'Carmelita Jeter',\n",
       " 'Jiao Liuyang',\n",
       " 'Israel Sabdi Jimnez Naez',\n",
       " 'Ral Alonso Jimnez Rodrguez',\n",
       " 'Jin Jong-O',\n",
       " 'Jin Jong-O',\n",
       " 'Eric Johannesen',\n",
       " 'Kari Mette Johansen',\n",
       " 'Maro Jokovi',\n",
       " 'Guillaume Joli',\n",
       " 'Asjha Takera Jones',\n",
       " 'Cullen Andrew Jones',\n",
       " 'Jade Louise Jones',\n",
       " 'Kelly Maria Jonker',\n",
       " 'Anthony Oluwafemi Olaseni Joshua',\n",
       " 'Michael Jung',\n",
       " 'Michael Jung',\n",
       " 'Yevgeniya Olegovna Kanayeva',\n",
       " 'Nikola Karabatic',\n",
       " 'Daouda Karabou',\n",
       " 'Ezekiel Kemboi Cheboi',\n",
       " 'Peter Kennaugh',\n",
       " 'Jason Francis Kenny',\n",
       " 'Jason Francis Kenny',\n",
       " 'Elvira Ramilevna Khasyanova',\n",
       " 'Tagir Kamalutdinovich Khaybulayev',\n",
       " 'Taras Yuryevich Khtey',\n",
       " 'Alan Anatolyevich Khugayev',\n",
       " 'Ki Bo-Bae',\n",
       " 'Ki Bo-Bae',\n",
       " 'Kim Hyeon-Wu',\n",
       " 'Kim Jae-Beom',\n",
       " 'Kim Jang-Mi',\n",
       " 'Kim Jeong-Hwan',\n",
       " 'Kim Ji-Yeon',\n",
       " 'Kim Un-Guk',\n",
       " 'Danielle \"Dani\" King (-Rowe)',\n",
       " 'Stephen Kiprotich',\n",
       " 'Sergey Aleksandrovich Kirdyapkin',\n",
       " 'Ingrid Klimke (-Busacker)',\n",
       " 'Bianca Knight',\n",
       " 'Roland Kkny',\n",
       " 'Oliver Korn',\n",
       " 'Darya Sergeyevna Korobova',\n",
       " 'Katalin Kovcs',\n",
       " 'Danuta Kozk',\n",
       " 'Danuta Kozk',\n",
       " 'Anastasiya Mykolavna Kozhenkova',\n",
       " 'Peter Kretschmer',\n",
       " 'Ranomi Kromowidjojo',\n",
       " 'Ranomi Kromowidjojo',\n",
       " 'Andreas Kuffner',\n",
       " 'Yolane Nicole Kukla',\n",
       " 'Jaroslav Kulhav',\n",
       " 'Amanda Maria Kurtovic',\n",
       " 'Kurt Kuschela',\n",
       " 'Kim Lammers',\n",
       " 'Eirik Vers Larsen',\n",
       " 'Breeja Larson',\n",
       " 'Yelena Anatolyevna Lashmanova',\n",
       " 'Renaud Lavillenie',\n",
       " 'Chad Guy Bertrand le Clos',\n",
       " 'Kathleen Genevieve \"Katie\" Ledecky',\n",
       " 'Lee Seong-Jin',\n",
       " 'Clment Lefert',\n",
       " 'Lei Sheng',\n",
       " 'Lisbeth Constance \"Libby\" Lenton-Trickett',\n",
       " 'Amy Elizabeth LePeilbet',\n",
       " 'Sydney Rae Leroux (-Dwyer)',\n",
       " 'Amaury Raymond Leveaux',\n",
       " 'Li Na',\n",
       " 'Li Xiaoxia',\n",
       " 'Li Xiaoxia',\n",
       " 'Li Xuerui',\n",
       " 'Li Xueying',\n",
       " 'Rubn Daro Limardo Gascn',\n",
       " 'Lin Dan',\n",
       " 'Lin Qingfeng',\n",
       " 'Caroline Lind',\n",
       " 'Danielle \"Dani\" Rodrigues Lins',\n",
       " 'Carli Anne Lloyd (-Hollins)',\n",
       " 'Ryan Steven Lochte',\n",
       " 'Ryan Steven Lochte',\n",
       " 'Esther Ruth  Lofgren',\n",
       " 'Eleanor \"Elle\" Logan',\n",
       " 'Vasyl Anatoliyovich Lomachenko',\n",
       " 'Fredrik Max Emil Lf',\n",
       " 'Mijan Lpez Nez',\n",
       " 'Kevin Wesley Love',\n",
       " 'Heidi Lke',\n",
       " 'Lu Xiaojun',\n",
       " 'Kristine Lunde-Borgersen',\n",
       " 'Luo Xiaojuan',\n",
       " 'Luo Yutong',\n",
       " 'Tatyana Viktorovna Lysenko (-Beloborodova)',\n",
       " 'Ma Long',\n",
       " 'Rosannagh \"Rosie\" MacLennan',\n",
       " 'Tianna Madison-Bartoletta',\n",
       " 'Benjamin Richard \"Ben\" Maher',\n",
       " 'Tomasz Majewski',\n",
       " 'Alina Andreyevna Makarenko',\n",
       " 'Taoufik Makhloufi',\n",
       " 'Florent Manaudou',\n",
       " 'Milica Mandi',\n",
       " 'Maiya Salakharovna Maneza',\n",
       " 'McKayla Rose Maroney',\n",
       " 'Sergey Anatolyevich Martynov',\n",
       " 'Courtney Lynn Kaiulani  Mathewson',\n",
       " 'Michael Walter Mathieu',\n",
       " 'Kaori Matsumoto',\n",
       " 'Misty Erie May-Treanor',\n",
       " 'Francena Lynette McCorory',\n",
       " 'Angel Lajuane McCoughtry',\n",
       " 'Tyler Tennant McGill',\n",
       " 'Edward Daniel \"Ed\" McKeever',\n",
       " 'Matthew \"Matt\" McLean',\n",
       " 'Sally McLellan-Pearson',\n",
       " 'Anna Maree Devenish Meares',\n",
       " 'Rta Meilutyt',\n",
       " 'Yegor Leonidovich Mekhontsev',\n",
       " 'Oussama Mellouli',\n",
       " 'Sarah Gabrielle Cabral de Menezes',\n",
       " 'Florian Mennigen',\n",
       " \"Aries D'Andre Merritt\",\n",
       " 'Hiram Ricardo Mier Alans',\n",
       " 'Maksim Mikhaylovich Mikhaylov',\n",
       " 'Ramon Salomon Miller',\n",
       " 'Maksim Nikolayevich \"Max\" Mirnyi',\n",
       " 'Heather Blaine Mitts (-Feeley)',\n",
       " 'Alin George Moldoveanu',\n",
       " 'Carlo Molfetta',\n",
       " 'Daniele Cristoforo Molmenti',\n",
       " 'Maya April Moore',\n",
       " 'Alexandra Patricia \"Alex\" Morgan',\n",
       " 'Camille-Marie Manuella Muffat',\n",
       " 'Lukas Mller',\n",
       " 'Maximillian \"Max\" Mller',\n",
       " 'Ryota Murata',\n",
       " 'Andrew Barron \"Andy\" Murray',\n",
       " 'Eric Gordon Murray',\n",
       " 'Dmitry Aleksandrovich Musersky',\n",
       " 'Petar Muslim',\n",
       " 'Meghan Musnicki',\n",
       " 'Aliya Farkhatovna Mustafina',\n",
       " 'Daniel Narcisse',\n",
       " 'Natlia Zlio Pereira',\n",
       " 'Anastasiya Konstantinovna Nazarenko',\n",
       " 'Sizwe Ndlovu',\n",
       " 'Mauro Nespoli',\n",
       " 'Omid Haji Norouzi',\n",
       " 'Tonje Nstvold',\n",
       " 'O Eun-Seok',\n",
       " 'Hitomi Obara (Sakamoto-)',\n",
       " 'Aleksey Aleksandrovich Obmochayev',\n",
       " 'Paulo Obradovi',\n",
       " \"Kelley Maureen O'Hara\",\n",
       " 'Oh Jin-Hyek',\n",
       " 'Om Yun-Chol',\n",
       " 'Thierry Omeyer',\n",
       " 'Heather Ann OReilly (-Werry)',\n",
       " 'Idalys Ortz Bocourt',\n",
       " 'Dzhamal Sultanovich Otarsultanov',\n",
       " 'Nathan Outteridge',\n",
       " 'Malcolm George Page',\n",
       " 'Mariana Pajn Londoo',\n",
       " 'Candace Nicole Parker (-Williams)',\n",
       " 'Krisztin Pars',\n",
       " 'Aleksandra Vyacheslavovna Patskevich',\n",
       " 'Christopher Emmanuel \"Chris\" Paul',\n",
       " 'Paula Renata Marques Pequeno',\n",
       " 'Maartje Yvonne Helene Paumen',\n",
       " 'Josip Pavi',\n",
       " 'Christie Patricia Pearce-Rampone',\n",
       " 'Victoria Louise \"Vicki\" Pendleton (-Gardner)',\n",
       " 'Oribe Peralta Morones',\n",
       " 'Lauren Perdue',\n",
       " 'Sandra Perkovi',\n",
       " 'Heather Petri',\n",
       " 'Michael Fred Phelps, II',\n",
       " 'Michael Fred Phelps, II',\n",
       " 'Michael Fred Phelps, II',\n",
       " 'Michael Fred Phelps, II',\n",
       " 'Demetrius Rashad Pinder',\n",
       " 'Svetlana Nikolayevna Podobedova',\n",
       " 'Sophie Polkamp',\n",
       " 'Miguel ngel Ponce Briseo',\n",
       " 'Yury Viktorovich Postrigay',\n",
       " 'Olivia Elizabeth \"Polly\" Powrie',\n",
       " 'Angela Pumariega Menndez',\n",
       " 'Leuris Pupo Requejo',\n",
       " 'Qin Kai',\n",
       " 'Rasmus Nicolai Quist Hansen',\n",
       " 'Jan Philipp Rabente',\n",
       " 'Alexandra Rose \"Aly\" Raisman',\n",
       " 'Alexandra Rose \"Aly\" Raisman',\n",
       " 'Robeisy Eloy Ramrez Carrazana',\n",
       " 'Megan Anna Rapinoe',\n",
       " 'Mads Reinholdt Rasmussen (-Kirke)',\n",
       " 'Jonas Reckermann',\n",
       " 'Peter \"Pete\" Reed',\n",
       " 'Brittney Davon Reese',\n",
       " 'Maximilian Reinelt',\n",
       " 'Diego Antonio Reyes Rosales',\n",
       " 'Ghasem Gholamreza Rezaei',\n",
       " 'Kimberly Susan \"Kim\" Rhode (-Harryman)',\n",
       " 'Sanya Richards-Ross',\n",
       " 'Sanya Richards-Ross',\n",
       " 'Linn-Kristin Ullevoldster Riegelhuth Koren',\n",
       " 'Rim Jong-Sim',\n",
       " 'Teddy Pierre-Marie Riner',\n",
       " 'va Risztov',\n",
       " 'Taylor Ritzel',\n",
       " 'Amy Joy Rodriguez (-Shilling)',\n",
       " 'Svetlana Alekseyevna Romashina',\n",
       " 'Svetlana Alekseyevna Romashina',\n",
       " 'Kyla Briana Ross',\n",
       " 'Jessica Rossi',\n",
       " 'Joanna Katie Rowsell Shand',\n",
       " 'David Lekuta Rudisha',\n",
       " 'Kelly Kristen Rulon',\n",
       " 'Gregory James \"Greg\" Rutherford',\n",
       " 'Olga Sergeyevna Rypakova (Alekseyeva-)',\n",
       " 'Carlos Arnoldo Salcido Flores',\n",
       " 'Behdad Salimi Kordasiabi',\n",
       " 'Max Salminen',\n",
       " 'Ilaria Salvatori',\n",
       " 'Flix Snchez Marcelo',\n",
       " 'Serik Zhumangaliyevich Sapiyev',\n",
       " 'Martin Sauer',\n",
       " 'Rebecca Elizabeth \"Becky\" Sauerbrunn',\n",
       " 'Mariya Sergeyevna Savinova (-Farnosova)',\n",
       " 'Melanie Rene \"Mel\" Schlanger (-Wright)',\n",
       " 'Richard Schmidt',\n",
       " 'Allison Rodgers Schmitt',\n",
       " 'Allison Rodgers Schmitt',\n",
       " 'Allison Rodgers Schmitt',\n",
       " 'Lauritz Schoof',\n",
       " 'Dirk Schrade',\n",
       " 'Karl Schulze',\n",
       " 'Emily Jane Seebohm',\n",
       " 'Melissa Seidemann',\n",
       " 'Karolina Andreyevna Sevastyanova',\n",
       " 'Torul sgrov',\n",
       " 'Eric Lee Shanteau',\n",
       " 'Lasha Shavdatuashvili',\n",
       " 'Sheilla Tavares de Castro Blassioli',\n",
       " 'Yana Volodymyrivna Shemiakina',\n",
       " 'Claressa Maria Shields',\n",
       " 'Alla Anatolyevna Shishkina',\n",
       " 'Nicholas David \"Nick\" Skelton',\n",
       " 'Tom Slingsby',\n",
       " 'David \"Dave\" Smith',\n",
       " 'John Smith',\n",
       " 'Tate Smith',\n",
       " 'Gril Snorroeggen',\n",
       " 'Aleksandr Sergeyevich Sokolov',\n",
       " 'Hope Amelia Solo (-Stevens)',\n",
       " 'Joyce Sombroek',\n",
       " 'Song Dae-Nam',\n",
       " 'Rebecca Soni',\n",
       " 'Rebecca Soni',\n",
       " 'Cdric Sorhaindo',\n",
       " 'Hamid Mohammad Sourian Reihanpour',\n",
       " 'Nicola Spirig Hug',\n",
       " 'Barbora potkov',\n",
       " 'rif rifov',\n",
       " 'Heather Mary Stanning',\n",
       " 'Jessica Marie Steffens',\n",
       " 'Margaret Ann \"Maggie\" Steffens',\n",
       " 'Murray Stewart',\n",
       " 'Etienne Stott',\n",
       " 'Thilo Stralkowski',\n",
       " 'Jrmy Stravius',\n",
       " 'Mris trombergs',\n",
       " 'Jennifer \"Jenn\" Stuczynski-Suhr',\n",
       " 'Sandro Sukno',\n",
       " 'Linn Jrum Sulland',\n",
       " 'Joseph Sullivan',\n",
       " 'Sun Yang',\n",
       " 'Sun Yang',\n",
       " 'Sun Yujie',\n",
       " 'David Svoboda',\n",
       " 'Gabriella Timea Szab',\n",
       " 'ron Szilgyi',\n",
       " 'Tandara Caixeta',\n",
       " 'Kateryna Mykolavna Tarasenko',\n",
       " 'Jeneba Sylvia Tarmoh',\n",
       " 'Davis Edward Tarwater',\n",
       " 'Diana Lurena Taurasi',\n",
       " 'Christian Taylor',\n",
       " 'Kathleen \"Katie\" Taylor',\n",
       " 'Artur Borisovich Taymazov',\n",
       " 'Servet Tazegl',\n",
       " 'Sergey Yuryevich Tetyukhin',\n",
       " 'Thasa Daher de Menezes',\n",
       " 'Nicholas Brewer \"Nick\" Thoman',\n",
       " 'Geraint Howell Thomas',\n",
       " 'James Thompson',\n",
       " 'Peter Thomsen',\n",
       " 'Tian Qing',\n",
       " 'Anzhelika Igorevna Timanina',\n",
       " 'Miroslava \"Mirka\" Topinkov Knapkov',\n",
       " 'Sofia Toro Prieto-Puga',\n",
       " 'Oleksiy Pavlovych Torokhtiy',\n",
       " 'Andrew \"Andy\" Triggs Hodge',\n",
       " 'Laura Rebecca Trott (-Kenny)',\n",
       " 'Laura Rebecca Trott (-Kenny)',\n",
       " 'De\\'Hashia Tonnek \"DeeDee\" Trotter',\n",
       " 'Kohei Uchimura',\n",
       " 'Ivan Sergeyevich Ukhov',\n",
       " 'Oleksandr Oleksandrovych Usik',\n",
       " 'Naomi Frances van As',\n",
       " 'Cameron van der Burgh',\n",
       " 'Margot van Geffen',\n",
       " 'Caia Jaqueline van Maasakker',\n",
       " 'Kitty van Male',\n",
       " 'Dorian Benno Eric van Rijsselberge',\n",
       " 'Jacob Stephen \"Jake\" Varner',\n",
       " 'Maria Valentina Vezzali',\n",
       " 'Frano Vian',\n",
       " 'Nstor Vicente Vidrio Serrano',\n",
       " 'Brenda Villa',\n",
       " 'Aleksandr Nikolayevich Vinokurov',\n",
       " 'Roman Andreyevich Vlasov',\n",
       " 'Kristina Vogel',\n",
       " 'Aleksandr Aleksandrovich Volkov',\n",
       " 'Dana Whitney Vollmer (-Grant)',\n",
       " 'Dana Whitney Vollmer (-Grant)',\n",
       " 'Dana Whitney Vollmer (-Grant)',\n",
       " 'Nataliya Vitalyevna Vorobyova',\n",
       " 'Marianne Vos',\n",
       " 'Shannon Vreeland',\n",
       " 'Keshorn Walcott',\n",
       " 'Kerri Lee Walsh Jennings',\n",
       " 'Mary Abigail \"Abby\" Wambach',\n",
       " 'Wang Hao',\n",
       " 'Wang Hao',\n",
       " 'Wang Mingjuan',\n",
       " 'Franziska Weber',\n",
       " 'Johannes-Maximilian \"Max\" Weinhold',\n",
       " 'Miriam Welte',\n",
       " 'Lidewij Marsia Maria Welten',\n",
       " 'Phillipp Wende',\n",
       " 'Lauren Ashley Wenger (-Trapani)',\n",
       " 'Benjamin We',\n",
       " 'Timo We',\n",
       " 'Christopher Wesley',\n",
       " 'Russell Westbrook, Jr.',\n",
       " 'Lindsay Marie Whalen',\n",
       " 'Mary Rebecca Whipple',\n",
       " 'Jordyn Marie Wieber',\n",
       " 'Bradley Marc Wiggins',\n",
       " 'Kristof Wilke',\n",
       " 'Deron Michael Williams',\n",
       " 'Lauryn Chenet Williams',\n",
       " 'Serena Jamika Williams',\n",
       " 'Serena Jamika Williams',\n",
       " 'Venus Ebony Starr Williams',\n",
       " 'Peter Robert Russell Wilson',\n",
       " 'Elsie Windes',\n",
       " 'Matthias Witthaus',\n",
       " 'Won Wu-Yeong',\n",
       " 'Wu Jingyu',\n",
       " 'Wu Minxia',\n",
       " 'Wu Minxia',\n",
       " 'Xu Anqi',\n",
       " 'Xu Lijia',\n",
       " 'Yang Hak-Seon',\n",
       " 'Ye Shiwen',\n",
       " 'Ye Shiwen',\n",
       " 'Yi Siling',\n",
       " 'Tatsuhiro Yonemitsu',\n",
       " 'Saori Yoshida',\n",
       " 'Ilya Leonidovich Zakharov',\n",
       " 'Arthur Nabarrete Zanetti',\n",
       " 'Yuliya Mikhaylovna Zaripova (Ivanova-, -Zarudneva-)',\n",
       " 'Christopher Zeller',\n",
       " 'Philipp Zeller',\n",
       " 'Zhang Chenglong',\n",
       " 'Zhang Jike',\n",
       " 'Zhang Jike',\n",
       " 'Zhang Nan',\n",
       " 'Zhang Yanquan',\n",
       " 'Zhao Yunlei',\n",
       " 'Zhao Yunlei',\n",
       " 'Zhou Lulu',\n",
       " 'Adrian Edward Zieliski',\n",
       " 'Urka olnir',\n",
       " 'Epke Jan Zonderland',\n",
       " 'Zou Kai',\n",
       " 'Zou Kai',\n",
       " 'Zou Shiming']"
      ]
     },
     "execution_count": 17,
     "metadata": {},
     "output_type": "execute_result"
    }
   ],
   "source": [
    "# Вывести на экран имена золотых медалистов 2012 года\n",
    "df[(df['Medal']=='Gold')&(df['Year']==2012)]['Name'].tolist()  #данные[(условие 1)&(условие 2)][условие 3].Строка"
   ]
  },
  {
   "cell_type": "code",
   "execution_count": 18,
   "id": "7c76c5fb",
   "metadata": {},
   "outputs": [
    {
     "data": {
      "text/html": [
       "<div>\n",
       "<style scoped>\n",
       "    .dataframe tbody tr th:only-of-type {\n",
       "        vertical-align: middle;\n",
       "    }\n",
       "\n",
       "    .dataframe tbody tr th {\n",
       "        vertical-align: top;\n",
       "    }\n",
       "\n",
       "    .dataframe thead th {\n",
       "        text-align: right;\n",
       "    }\n",
       "</style>\n",
       "<table border=\"1\" class=\"dataframe\">\n",
       "  <thead>\n",
       "    <tr style=\"text-align: right;\">\n",
       "      <th></th>\n",
       "      <th>ID</th>\n",
       "      <th>Name</th>\n",
       "      <th>Sex</th>\n",
       "      <th>Age</th>\n",
       "      <th>Height</th>\n",
       "      <th>Weight</th>\n",
       "      <th>Team</th>\n",
       "      <th>NOC</th>\n",
       "      <th>Games</th>\n",
       "      <th>Year</th>\n",
       "      <th>Season</th>\n",
       "      <th>City</th>\n",
       "      <th>Sport</th>\n",
       "      <th>Event</th>\n",
       "      <th>Medal</th>\n",
       "    </tr>\n",
       "  </thead>\n",
       "  <tbody>\n",
       "    <tr>\n",
       "      <th>1</th>\n",
       "      <td>2</td>\n",
       "      <td>A Lamusi</td>\n",
       "      <td>M</td>\n",
       "      <td>23.0</td>\n",
       "      <td>170.0</td>\n",
       "      <td>60.0</td>\n",
       "      <td>China</td>\n",
       "      <td>CHN</td>\n",
       "      <td>2012 Summer</td>\n",
       "      <td>2012</td>\n",
       "      <td>Summer</td>\n",
       "      <td>London</td>\n",
       "      <td>Judo</td>\n",
       "      <td>Judo Men's Extra-Lightweight</td>\n",
       "      <td>NaN</td>\n",
       "    </tr>\n",
       "    <tr>\n",
       "      <th>80</th>\n",
       "      <td>22</td>\n",
       "      <td>Andreea Aanei</td>\n",
       "      <td>F</td>\n",
       "      <td>22.0</td>\n",
       "      <td>170.0</td>\n",
       "      <td>125.0</td>\n",
       "      <td>Romania</td>\n",
       "      <td>ROU</td>\n",
       "      <td>2016 Summer</td>\n",
       "      <td>2016</td>\n",
       "      <td>Summer</td>\n",
       "      <td>Rio de Janeiro</td>\n",
       "      <td>Weightlifting</td>\n",
       "      <td>Weightlifting Women's Super-Heavyweight</td>\n",
       "      <td>NaN</td>\n",
       "    </tr>\n",
       "  </tbody>\n",
       "</table>\n",
       "</div>"
      ],
      "text/plain": [
       "    ID           Name Sex   Age  Height  Weight     Team  NOC        Games  \\\n",
       "1    2       A Lamusi   M  23.0   170.0    60.0    China  CHN  2012 Summer   \n",
       "80  22  Andreea Aanei   F  22.0   170.0   125.0  Romania  ROU  2016 Summer   \n",
       "\n",
       "    Year  Season            City          Sport  \\\n",
       "1   2012  Summer          London           Judo   \n",
       "80  2016  Summer  Rio de Janeiro  Weightlifting   \n",
       "\n",
       "                                      Event Medal  \n",
       "1              Judo Men's Extra-Lightweight   NaN  \n",
       "80  Weightlifting Women's Super-Heavyweight   NaN  "
      ]
     },
     "execution_count": 18,
     "metadata": {},
     "output_type": "execute_result"
    }
   ],
   "source": [
    "# Вывести на экран имена золотых медалистов 2012,2016 года\n",
    "df[df['Year'].isin([2012,2016])] #чтобы не писать повторения (df['Year']==2012) & (df['Year']==2016)\n",
    "years = [2012,2016]  #второй вариант, чтобы не писать повторения (df['Year']==2012) & (df['Year']==2016)\n",
    "df[df['Year'].isin(years)].head(2)"
   ]
  },
  {
   "cell_type": "code",
   "execution_count": 19,
   "id": "a63fbb74",
   "metadata": {},
   "outputs": [
    {
     "data": {
      "text/html": [
       "<div>\n",
       "<style scoped>\n",
       "    .dataframe tbody tr th:only-of-type {\n",
       "        vertical-align: middle;\n",
       "    }\n",
       "\n",
       "    .dataframe tbody tr th {\n",
       "        vertical-align: top;\n",
       "    }\n",
       "\n",
       "    .dataframe thead th {\n",
       "        text-align: right;\n",
       "    }\n",
       "</style>\n",
       "<table border=\"1\" class=\"dataframe\">\n",
       "  <thead>\n",
       "    <tr style=\"text-align: right;\">\n",
       "      <th></th>\n",
       "      <th>ID</th>\n",
       "      <th>Name</th>\n",
       "      <th>Sex</th>\n",
       "      <th>Age</th>\n",
       "      <th>Height</th>\n",
       "      <th>Weight</th>\n",
       "      <th>Team</th>\n",
       "      <th>NOC</th>\n",
       "      <th>Games</th>\n",
       "      <th>Year</th>\n",
       "      <th>Season</th>\n",
       "      <th>City</th>\n",
       "      <th>Sport</th>\n",
       "      <th>Event</th>\n",
       "      <th>Medal</th>\n",
       "    </tr>\n",
       "  </thead>\n",
       "  <tbody>\n",
       "    <tr>\n",
       "      <th>147</th>\n",
       "      <td>54</td>\n",
       "      <td>Mohamed Jamshid Abadi</td>\n",
       "      <td>M</td>\n",
       "      <td>NaN</td>\n",
       "      <td>NaN</td>\n",
       "      <td>NaN</td>\n",
       "      <td>Iran</td>\n",
       "      <td>IRI</td>\n",
       "      <td>1948 Summer</td>\n",
       "      <td>1948</td>\n",
       "      <td>Summer</td>\n",
       "      <td>London</td>\n",
       "      <td>Boxing</td>\n",
       "      <td>Boxing Men's Heavyweight</td>\n",
       "      <td>NaN</td>\n",
       "    </tr>\n",
       "    <tr>\n",
       "      <th>152</th>\n",
       "      <td>58</td>\n",
       "      <td>Georgi Abadzhiev</td>\n",
       "      <td>M</td>\n",
       "      <td>NaN</td>\n",
       "      <td>NaN</td>\n",
       "      <td>NaN</td>\n",
       "      <td>Bulgaria</td>\n",
       "      <td>BUL</td>\n",
       "      <td>1924 Summer</td>\n",
       "      <td>1924</td>\n",
       "      <td>Summer</td>\n",
       "      <td>Paris</td>\n",
       "      <td>Cycling</td>\n",
       "      <td>Cycling Men's Road Race, Individual</td>\n",
       "      <td>NaN</td>\n",
       "    </tr>\n",
       "  </tbody>\n",
       "</table>\n",
       "</div>"
      ],
      "text/plain": [
       "     ID                   Name Sex  Age  Height  Weight      Team  NOC  \\\n",
       "147  54  Mohamed Jamshid Abadi   M  NaN     NaN     NaN      Iran  IRI   \n",
       "152  58       Georgi Abadzhiev   M  NaN     NaN     NaN  Bulgaria  BUL   \n",
       "\n",
       "           Games  Year  Season    City    Sport  \\\n",
       "147  1948 Summer  1948  Summer  London   Boxing   \n",
       "152  1924 Summer  1924  Summer   Paris  Cycling   \n",
       "\n",
       "                                   Event Medal  \n",
       "147             Boxing Men's Heavyweight   NaN  \n",
       "152  Cycling Men's Road Race, Individual   NaN  "
      ]
     },
     "execution_count": 19,
     "metadata": {},
     "output_type": "execute_result"
    }
   ],
   "source": [
    "# показывает те строги где НЕТ значений в возрасте\n",
    "df[df['Age'].isnull()].head(2)"
   ]
  },
  {
   "cell_type": "code",
   "execution_count": 20,
   "id": "3bcf9d95",
   "metadata": {},
   "outputs": [
    {
     "data": {
      "text/html": [
       "<div>\n",
       "<style scoped>\n",
       "    .dataframe tbody tr th:only-of-type {\n",
       "        vertical-align: middle;\n",
       "    }\n",
       "\n",
       "    .dataframe tbody tr th {\n",
       "        vertical-align: top;\n",
       "    }\n",
       "\n",
       "    .dataframe thead th {\n",
       "        text-align: right;\n",
       "    }\n",
       "</style>\n",
       "<table border=\"1\" class=\"dataframe\">\n",
       "  <thead>\n",
       "    <tr style=\"text-align: right;\">\n",
       "      <th></th>\n",
       "      <th>ID</th>\n",
       "      <th>Name</th>\n",
       "      <th>Sex</th>\n",
       "      <th>Age</th>\n",
       "      <th>Height</th>\n",
       "      <th>Weight</th>\n",
       "      <th>Team</th>\n",
       "      <th>NOC</th>\n",
       "      <th>Games</th>\n",
       "      <th>Year</th>\n",
       "      <th>Season</th>\n",
       "      <th>City</th>\n",
       "      <th>Sport</th>\n",
       "      <th>Event</th>\n",
       "      <th>Medal</th>\n",
       "    </tr>\n",
       "  </thead>\n",
       "  <tbody>\n",
       "    <tr>\n",
       "      <th>3</th>\n",
       "      <td>4</td>\n",
       "      <td>Edgar Lindenau Aabye</td>\n",
       "      <td>M</td>\n",
       "      <td>34.0</td>\n",
       "      <td>NaN</td>\n",
       "      <td>NaN</td>\n",
       "      <td>Denmark/Sweden</td>\n",
       "      <td>DEN</td>\n",
       "      <td>1900 Summer</td>\n",
       "      <td>1900</td>\n",
       "      <td>Summer</td>\n",
       "      <td>Paris</td>\n",
       "      <td>Tug-Of-War</td>\n",
       "      <td>Tug-Of-War Men's Tug-Of-War</td>\n",
       "      <td>Gold</td>\n",
       "    </tr>\n",
       "    <tr>\n",
       "      <th>37</th>\n",
       "      <td>15</td>\n",
       "      <td>Arvo Ossian Aaltonen</td>\n",
       "      <td>M</td>\n",
       "      <td>30.0</td>\n",
       "      <td>NaN</td>\n",
       "      <td>NaN</td>\n",
       "      <td>Finland</td>\n",
       "      <td>FIN</td>\n",
       "      <td>1920 Summer</td>\n",
       "      <td>1920</td>\n",
       "      <td>Summer</td>\n",
       "      <td>Antwerpen</td>\n",
       "      <td>Swimming</td>\n",
       "      <td>Swimming Men's 200 metres Breaststroke</td>\n",
       "      <td>Bronze</td>\n",
       "    </tr>\n",
       "  </tbody>\n",
       "</table>\n",
       "</div>"
      ],
      "text/plain": [
       "    ID                  Name Sex   Age  Height  Weight            Team  NOC  \\\n",
       "3    4  Edgar Lindenau Aabye   M  34.0     NaN     NaN  Denmark/Sweden  DEN   \n",
       "37  15  Arvo Ossian Aaltonen   M  30.0     NaN     NaN         Finland  FIN   \n",
       "\n",
       "          Games  Year  Season       City       Sport  \\\n",
       "3   1900 Summer  1900  Summer      Paris  Tug-Of-War   \n",
       "37  1920 Summer  1920  Summer  Antwerpen    Swimming   \n",
       "\n",
       "                                     Event   Medal  \n",
       "3              Tug-Of-War Men's Tug-Of-War    Gold  \n",
       "37  Swimming Men's 200 metres Breaststroke  Bronze  "
      ]
     },
     "execution_count": 20,
     "metadata": {},
     "output_type": "execute_result"
    }
   ],
   "source": [
    "# показывает те строги где есть значения медали\n",
    "df[df['Medal'].notnull()].head(2)  "
   ]
  },
  {
   "cell_type": "markdown",
   "id": "0a36eda8",
   "metadata": {},
   "source": [
    "## Агрегирующие функции\n",
    "    max() - максимум\n",
    "    min() - минимум\n",
    "    mean() - среднее значение\n",
    "    sum() - сумма\n",
    "    count() - количество непустых элементов\n",
    "    std() - стандартное отклонение"
   ]
  },
  {
   "cell_type": "code",
   "execution_count": 21,
   "id": "427cb612",
   "metadata": {},
   "outputs": [
    {
     "data": {
      "text/plain": [
       "25.556898357297374"
      ]
     },
     "execution_count": 21,
     "metadata": {},
     "output_type": "execute_result"
    }
   ],
   "source": [
    "# Средний возраст спортсменов\n",
    "df['Age'].mean()\n"
   ]
  },
  {
   "cell_type": "code",
   "execution_count": 22,
   "id": "14628055",
   "metadata": {},
   "outputs": [
    {
     "data": {
      "text/plain": [
       "1896"
      ]
     },
     "execution_count": 22,
     "metadata": {},
     "output_type": "execute_result"
    }
   ],
   "source": [
    "# Год первой и последней Олимпиаде в датасете\n",
    "df['Year'].min()"
   ]
  },
  {
   "cell_type": "code",
   "execution_count": 23,
   "id": "87b0bddc",
   "metadata": {},
   "outputs": [
    {
     "data": {
      "text/html": [
       "<div>\n",
       "<style scoped>\n",
       "    .dataframe tbody tr th:only-of-type {\n",
       "        vertical-align: middle;\n",
       "    }\n",
       "\n",
       "    .dataframe tbody tr th {\n",
       "        vertical-align: top;\n",
       "    }\n",
       "\n",
       "    .dataframe thead th {\n",
       "        text-align: right;\n",
       "    }\n",
       "</style>\n",
       "<table border=\"1\" class=\"dataframe\">\n",
       "  <thead>\n",
       "    <tr style=\"text-align: right;\">\n",
       "      <th></th>\n",
       "      <th>Name</th>\n",
       "      <th>Sport</th>\n",
       "    </tr>\n",
       "  </thead>\n",
       "  <tbody>\n",
       "    <tr>\n",
       "      <th>265040</th>\n",
       "      <td>Yao Ming</td>\n",
       "      <td>Basketball</td>\n",
       "    </tr>\n",
       "    <tr>\n",
       "      <th>265041</th>\n",
       "      <td>Yao Ming</td>\n",
       "      <td>Basketball</td>\n",
       "    </tr>\n",
       "    <tr>\n",
       "      <th>265042</th>\n",
       "      <td>Yao Ming</td>\n",
       "      <td>Basketball</td>\n",
       "    </tr>\n",
       "  </tbody>\n",
       "</table>\n",
       "</div>"
      ],
      "text/plain": [
       "            Name       Sport\n",
       "265040  Yao Ming  Basketball\n",
       "265041  Yao Ming  Basketball\n",
       "265042  Yao Ming  Basketball"
      ]
     },
     "execution_count": 23,
     "metadata": {},
     "output_type": "execute_result"
    }
   ],
   "source": [
    "# В каком виде спорта участвовал самый высокий спортсмен\n",
    "MostTall = df['Height'].max()\n",
    "#объявляем по какому столбцу ищем == условие, [что на вывод показать]\n",
    "df.loc[df['Height']==df['Height'].max(),['Name','Sport']]  "
   ]
  },
  {
   "cell_type": "markdown",
   "id": "57814e76",
   "metadata": {},
   "source": [
    "## Группировка данных и Сортировка"
   ]
  },
  {
   "cell_type": "code",
   "execution_count": 24,
   "id": "f0579409",
   "metadata": {},
   "outputs": [
    {
     "data": {
      "text/plain": [
       "array(['China', 'Denmark', 'Denmark/Sweden', ..., 'Solos Carex',\n",
       "       'Dow Jones', 'Digby'], dtype=object)"
      ]
     },
     "execution_count": 24,
     "metadata": {},
     "output_type": "execute_result"
    }
   ],
   "source": [
    "#список команд  создается\n",
    "df['Team'].unique()  "
   ]
  },
  {
   "cell_type": "code",
   "execution_count": 25,
   "id": "9327a2b3",
   "metadata": {},
   "outputs": [
    {
     "data": {
      "text/plain": [
       "1184"
      ]
     },
     "execution_count": 25,
     "metadata": {},
     "output_type": "execute_result"
    }
   ],
   "source": [
    "#Как часто страны участвовали в Олимпиаде?\n",
    "df['Team'].nunique() "
   ]
  },
  {
   "cell_type": "code",
   "execution_count": 26,
   "id": "8e12800c",
   "metadata": {},
   "outputs": [
    {
     "data": {
      "text/plain": [
       "Sex\n",
       "M    196594\n",
       "F     74522\n",
       "Name: count, dtype: int64"
      ]
     },
     "execution_count": 26,
     "metadata": {},
     "output_type": "execute_result"
    }
   ],
   "source": [
    "#Количество мужчин и женщин\n",
    "df['Sex'].value_counts()    "
   ]
  },
  {
   "cell_type": "code",
   "execution_count": 27,
   "id": "f75f47ef",
   "metadata": {},
   "outputs": [
    {
     "data": {
      "text/plain": [
       "Sport\n",
       "Athletics     38624\n",
       "Gymnastics    26707\n",
       "Swimming      23195\n",
       "Name: count, dtype: int64"
      ]
     },
     "execution_count": 27,
     "metadata": {},
     "output_type": "execute_result"
    }
   ],
   "source": [
    "#переменная = Кол-во дисциплин \n",
    "s = df['Sport'].value_counts()    \n",
    "s[s>20000]  #сортировка по значению"
   ]
  },
  {
   "cell_type": "code",
   "execution_count": 28,
   "id": "0b2de623",
   "metadata": {},
   "outputs": [
    {
     "data": {
      "text/html": [
       "<div>\n",
       "<style scoped>\n",
       "    .dataframe tbody tr th:only-of-type {\n",
       "        vertical-align: middle;\n",
       "    }\n",
       "\n",
       "    .dataframe tbody tr th {\n",
       "        vertical-align: top;\n",
       "    }\n",
       "\n",
       "    .dataframe thead th {\n",
       "        text-align: right;\n",
       "    }\n",
       "</style>\n",
       "<table border=\"1\" class=\"dataframe\">\n",
       "  <thead>\n",
       "    <tr style=\"text-align: right;\">\n",
       "      <th></th>\n",
       "      <th>ID</th>\n",
       "      <th>Name</th>\n",
       "      <th>Sex</th>\n",
       "      <th>Age</th>\n",
       "      <th>Height</th>\n",
       "      <th>Weight</th>\n",
       "      <th>Team</th>\n",
       "      <th>NOC</th>\n",
       "      <th>Games</th>\n",
       "      <th>Year</th>\n",
       "      <th>Season</th>\n",
       "      <th>City</th>\n",
       "      <th>Sport</th>\n",
       "      <th>Event</th>\n",
       "      <th>Medal</th>\n",
       "    </tr>\n",
       "  </thead>\n",
       "  <tbody>\n",
       "    <tr>\n",
       "      <th>48411</th>\n",
       "      <td>24958</td>\n",
       "      <td>Addison Brian Dale</td>\n",
       "      <td>M</td>\n",
       "      <td>37.0</td>\n",
       "      <td>180.0</td>\n",
       "      <td>91.0</td>\n",
       "      <td>Zimbabwe</td>\n",
       "      <td>ZIM</td>\n",
       "      <td>1980 Summer</td>\n",
       "      <td>1980</td>\n",
       "      <td>Summer</td>\n",
       "      <td>Moskva</td>\n",
       "      <td>Weightlifting</td>\n",
       "      <td>Weightlifting Men's Heavyweight I</td>\n",
       "      <td>NaN</td>\n",
       "    </tr>\n",
       "    <tr>\n",
       "      <th>67557</th>\n",
       "      <td>34530</td>\n",
       "      <td>Christopher James \"Chris\" Felgate</td>\n",
       "      <td>M</td>\n",
       "      <td>26.0</td>\n",
       "      <td>189.0</td>\n",
       "      <td>77.0</td>\n",
       "      <td>Zimbabwe</td>\n",
       "      <td>ZIM</td>\n",
       "      <td>2008 Summer</td>\n",
       "      <td>2008</td>\n",
       "      <td>Summer</td>\n",
       "      <td>Beijing</td>\n",
       "      <td>Triathlon</td>\n",
       "      <td>Triathlon Men's Olympic Distance</td>\n",
       "      <td>NaN</td>\n",
       "    </tr>\n",
       "    <tr>\n",
       "      <th>67558</th>\n",
       "      <td>34530</td>\n",
       "      <td>Christopher James \"Chris\" Felgate</td>\n",
       "      <td>M</td>\n",
       "      <td>30.0</td>\n",
       "      <td>189.0</td>\n",
       "      <td>77.0</td>\n",
       "      <td>Zimbabwe</td>\n",
       "      <td>ZIM</td>\n",
       "      <td>2012 Summer</td>\n",
       "      <td>2012</td>\n",
       "      <td>Summer</td>\n",
       "      <td>London</td>\n",
       "      <td>Triathlon</td>\n",
       "      <td>Triathlon Men's Olympic Distance</td>\n",
       "      <td>NaN</td>\n",
       "    </tr>\n",
       "    <tr>\n",
       "      <th>148911</th>\n",
       "      <td>74696</td>\n",
       "      <td>Mark Marabini</td>\n",
       "      <td>M</td>\n",
       "      <td>35.0</td>\n",
       "      <td>181.0</td>\n",
       "      <td>75.0</td>\n",
       "      <td>Zimbabwe</td>\n",
       "      <td>ZIM</td>\n",
       "      <td>2000 Summer</td>\n",
       "      <td>2000</td>\n",
       "      <td>Summer</td>\n",
       "      <td>Sydney</td>\n",
       "      <td>Triathlon</td>\n",
       "      <td>Triathlon Men's Olympic Distance</td>\n",
       "      <td>NaN</td>\n",
       "    </tr>\n",
       "    <tr>\n",
       "      <th>22755</th>\n",
       "      <td>11972</td>\n",
       "      <td>Byron Hamish Black</td>\n",
       "      <td>M</td>\n",
       "      <td>26.0</td>\n",
       "      <td>175.0</td>\n",
       "      <td>70.0</td>\n",
       "      <td>Zimbabwe</td>\n",
       "      <td>ZIM</td>\n",
       "      <td>1996 Summer</td>\n",
       "      <td>1996</td>\n",
       "      <td>Summer</td>\n",
       "      <td>Atlanta</td>\n",
       "      <td>Tennis</td>\n",
       "      <td>Tennis Men's Singles</td>\n",
       "      <td>NaN</td>\n",
       "    </tr>\n",
       "    <tr>\n",
       "      <th>...</th>\n",
       "      <td>...</td>\n",
       "      <td>...</td>\n",
       "      <td>...</td>\n",
       "      <td>...</td>\n",
       "      <td>...</td>\n",
       "      <td>...</td>\n",
       "      <td>...</td>\n",
       "      <td>...</td>\n",
       "      <td>...</td>\n",
       "      <td>...</td>\n",
       "      <td>...</td>\n",
       "      <td>...</td>\n",
       "      <td>...</td>\n",
       "      <td>...</td>\n",
       "      <td>...</td>\n",
       "    </tr>\n",
       "    <tr>\n",
       "      <th>264047</th>\n",
       "      <td>132125</td>\n",
       "      <td>Robina Muqim Yaar</td>\n",
       "      <td>F</td>\n",
       "      <td>22.0</td>\n",
       "      <td>180.0</td>\n",
       "      <td>56.0</td>\n",
       "      <td>Afghanistan</td>\n",
       "      <td>AFG</td>\n",
       "      <td>2008 Summer</td>\n",
       "      <td>2008</td>\n",
       "      <td>Summer</td>\n",
       "      <td>Beijing</td>\n",
       "      <td>Athletics</td>\n",
       "      <td>Athletics Women's 100 metres</td>\n",
       "      <td>NaN</td>\n",
       "    </tr>\n",
       "    <tr>\n",
       "      <th>266399</th>\n",
       "      <td>133277</td>\n",
       "      <td>Kamia Yousufi</td>\n",
       "      <td>F</td>\n",
       "      <td>20.0</td>\n",
       "      <td>165.0</td>\n",
       "      <td>55.0</td>\n",
       "      <td>Afghanistan</td>\n",
       "      <td>AFG</td>\n",
       "      <td>2016 Summer</td>\n",
       "      <td>2016</td>\n",
       "      <td>Summer</td>\n",
       "      <td>Rio de Janeiro</td>\n",
       "      <td>Athletics</td>\n",
       "      <td>Athletics Women's 100 metres</td>\n",
       "      <td>NaN</td>\n",
       "    </tr>\n",
       "    <tr>\n",
       "      <th>267228</th>\n",
       "      <td>133698</td>\n",
       "      <td>Abdul Wahab Zahiri</td>\n",
       "      <td>M</td>\n",
       "      <td>24.0</td>\n",
       "      <td>175.0</td>\n",
       "      <td>68.0</td>\n",
       "      <td>Afghanistan</td>\n",
       "      <td>AFG</td>\n",
       "      <td>2016 Summer</td>\n",
       "      <td>2016</td>\n",
       "      <td>Summer</td>\n",
       "      <td>Rio de Janeiro</td>\n",
       "      <td>Athletics</td>\n",
       "      <td>Athletics Men's 100 metres</td>\n",
       "      <td>NaN</td>\n",
       "    </tr>\n",
       "    <tr>\n",
       "      <th>267283</th>\n",
       "      <td>133717</td>\n",
       "      <td>Ali Ahmed Youssef Zaid</td>\n",
       "      <td>M</td>\n",
       "      <td>20.0</td>\n",
       "      <td>168.0</td>\n",
       "      <td>58.0</td>\n",
       "      <td>Afghanistan</td>\n",
       "      <td>AFG</td>\n",
       "      <td>1960 Summer</td>\n",
       "      <td>1960</td>\n",
       "      <td>Summer</td>\n",
       "      <td>Roma</td>\n",
       "      <td>Athletics</td>\n",
       "      <td>Athletics Men's 200 metres</td>\n",
       "      <td>NaN</td>\n",
       "    </tr>\n",
       "    <tr>\n",
       "      <th>267284</th>\n",
       "      <td>133717</td>\n",
       "      <td>Ali Ahmed Youssef Zaid</td>\n",
       "      <td>M</td>\n",
       "      <td>20.0</td>\n",
       "      <td>168.0</td>\n",
       "      <td>58.0</td>\n",
       "      <td>Afghanistan</td>\n",
       "      <td>AFG</td>\n",
       "      <td>1960 Summer</td>\n",
       "      <td>1960</td>\n",
       "      <td>Summer</td>\n",
       "      <td>Roma</td>\n",
       "      <td>Athletics</td>\n",
       "      <td>Athletics Men's 4 x 100 metres Relay</td>\n",
       "      <td>NaN</td>\n",
       "    </tr>\n",
       "  </tbody>\n",
       "</table>\n",
       "<p>271116 rows × 15 columns</p>\n",
       "</div>"
      ],
      "text/plain": [
       "            ID                               Name Sex   Age  Height  Weight  \\\n",
       "48411    24958                 Addison Brian Dale   M  37.0   180.0    91.0   \n",
       "67557    34530  Christopher James \"Chris\" Felgate   M  26.0   189.0    77.0   \n",
       "67558    34530  Christopher James \"Chris\" Felgate   M  30.0   189.0    77.0   \n",
       "148911   74696                      Mark Marabini   M  35.0   181.0    75.0   \n",
       "22755    11972                 Byron Hamish Black   M  26.0   175.0    70.0   \n",
       "...        ...                                ...  ..   ...     ...     ...   \n",
       "264047  132125                  Robina Muqim Yaar   F  22.0   180.0    56.0   \n",
       "266399  133277                      Kamia Yousufi   F  20.0   165.0    55.0   \n",
       "267228  133698                 Abdul Wahab Zahiri   M  24.0   175.0    68.0   \n",
       "267283  133717             Ali Ahmed Youssef Zaid   M  20.0   168.0    58.0   \n",
       "267284  133717             Ali Ahmed Youssef Zaid   M  20.0   168.0    58.0   \n",
       "\n",
       "               Team  NOC        Games  Year  Season            City  \\\n",
       "48411      Zimbabwe  ZIM  1980 Summer  1980  Summer          Moskva   \n",
       "67557      Zimbabwe  ZIM  2008 Summer  2008  Summer         Beijing   \n",
       "67558      Zimbabwe  ZIM  2012 Summer  2012  Summer          London   \n",
       "148911     Zimbabwe  ZIM  2000 Summer  2000  Summer          Sydney   \n",
       "22755      Zimbabwe  ZIM  1996 Summer  1996  Summer         Atlanta   \n",
       "...             ...  ...          ...   ...     ...             ...   \n",
       "264047  Afghanistan  AFG  2008 Summer  2008  Summer         Beijing   \n",
       "266399  Afghanistan  AFG  2016 Summer  2016  Summer  Rio de Janeiro   \n",
       "267228  Afghanistan  AFG  2016 Summer  2016  Summer  Rio de Janeiro   \n",
       "267283  Afghanistan  AFG  1960 Summer  1960  Summer            Roma   \n",
       "267284  Afghanistan  AFG  1960 Summer  1960  Summer            Roma   \n",
       "\n",
       "                Sport                                 Event Medal  \n",
       "48411   Weightlifting     Weightlifting Men's Heavyweight I   NaN  \n",
       "67557       Triathlon      Triathlon Men's Olympic Distance   NaN  \n",
       "67558       Triathlon      Triathlon Men's Olympic Distance   NaN  \n",
       "148911      Triathlon      Triathlon Men's Olympic Distance   NaN  \n",
       "22755          Tennis                  Tennis Men's Singles   NaN  \n",
       "...               ...                                   ...   ...  \n",
       "264047      Athletics          Athletics Women's 100 metres   NaN  \n",
       "266399      Athletics          Athletics Women's 100 metres   NaN  \n",
       "267228      Athletics            Athletics Men's 100 metres   NaN  \n",
       "267283      Athletics            Athletics Men's 200 metres   NaN  \n",
       "267284      Athletics  Athletics Men's 4 x 100 metres Relay   NaN  \n",
       "\n",
       "[271116 rows x 15 columns]"
      ]
     },
     "execution_count": 28,
     "metadata": {},
     "output_type": "execute_result"
    }
   ],
   "source": [
    "#Сортировка по 2м столбцам\n",
    "df.sort_values(['NOC','Sport'], ascending=False)"
   ]
  },
  {
   "cell_type": "code",
   "execution_count": 29,
   "id": "4b82b68a",
   "metadata": {},
   "outputs": [
    {
     "data": {
      "text/plain": [
       "Year  Medal \n",
       "1896  Gold       62\n",
       "      Silver     43\n",
       "      Bronze     38\n",
       "2016  Bronze    703\n",
       "      Gold      665\n",
       "      Silver    655\n",
       "Name: count, dtype: int64"
      ]
     },
     "execution_count": 29,
     "metadata": {},
     "output_type": "execute_result"
    }
   ],
   "source": [
    "#группировка по полу\n",
    "#таблица.функция(относительно чего группируется)(что конкретно считать в группах)\n",
    "#Вывести количество призеров первой и последней Олимпиады\n",
    "df_y_min=df['Year'].min() # Вывести минимальный год\n",
    "df_y_max=df['Year'].max()  # Вывести максимальный год\n",
    "df_medal=df['Medal'].notnull() # Вывести список медалей\n",
    "df[df['Year'].isin([df_y_min,df_y_max]) & df_medal].groupby('Year')['Medal'].value_counts()"
   ]
  },
  {
   "cell_type": "markdown",
   "id": "8104e7af",
   "metadata": {},
   "source": [
    "## Сводные таблицы\n",
    "\n",
    "### pivot_table()\n",
    "\n",
    "    values – значения\n",
    "    index – названия строк\n",
    "    columns – названия колонок\n",
    "    aggfunc – тип агрегации"
   ]
  },
  {
   "cell_type": "code",
   "execution_count": 30,
   "id": "a1f42393",
   "metadata": {},
   "outputs": [
    {
     "data": {
      "text/html": [
       "<div>\n",
       "<style scoped>\n",
       "    .dataframe tbody tr th:only-of-type {\n",
       "        vertical-align: middle;\n",
       "    }\n",
       "\n",
       "    .dataframe tbody tr th {\n",
       "        vertical-align: top;\n",
       "    }\n",
       "\n",
       "    .dataframe thead th {\n",
       "        text-align: right;\n",
       "    }\n",
       "</style>\n",
       "<table border=\"1\" class=\"dataframe\">\n",
       "  <thead>\n",
       "    <tr style=\"text-align: right;\">\n",
       "      <th>NOC</th>\n",
       "      <th>AFG</th>\n",
       "      <th>AHO</th>\n",
       "      <th>ALB</th>\n",
       "      <th>ALG</th>\n",
       "      <th>AND</th>\n",
       "      <th>ANG</th>\n",
       "      <th>ANT</th>\n",
       "      <th>ANZ</th>\n",
       "      <th>ARG</th>\n",
       "      <th>ARM</th>\n",
       "      <th>...</th>\n",
       "      <th>VIN</th>\n",
       "      <th>VNM</th>\n",
       "      <th>WIF</th>\n",
       "      <th>YAR</th>\n",
       "      <th>YEM</th>\n",
       "      <th>YMD</th>\n",
       "      <th>YUG</th>\n",
       "      <th>ZAM</th>\n",
       "      <th>ZIM</th>\n",
       "      <th>All</th>\n",
       "    </tr>\n",
       "    <tr>\n",
       "      <th>Season</th>\n",
       "      <th></th>\n",
       "      <th></th>\n",
       "      <th></th>\n",
       "      <th></th>\n",
       "      <th></th>\n",
       "      <th></th>\n",
       "      <th></th>\n",
       "      <th></th>\n",
       "      <th></th>\n",
       "      <th></th>\n",
       "      <th></th>\n",
       "      <th></th>\n",
       "      <th></th>\n",
       "      <th></th>\n",
       "      <th></th>\n",
       "      <th></th>\n",
       "      <th></th>\n",
       "      <th></th>\n",
       "      <th></th>\n",
       "      <th></th>\n",
       "      <th></th>\n",
       "    </tr>\n",
       "  </thead>\n",
       "  <tbody>\n",
       "    <tr>\n",
       "      <th>Summer</th>\n",
       "      <td>17.0</td>\n",
       "      <td>15.0</td>\n",
       "      <td>16.0</td>\n",
       "      <td>14.0</td>\n",
       "      <td>15.0</td>\n",
       "      <td>13.0</td>\n",
       "      <td>14.0</td>\n",
       "      <td>16.0</td>\n",
       "      <td>13.0</td>\n",
       "      <td>15.0</td>\n",
       "      <td>...</td>\n",
       "      <td>16.0</td>\n",
       "      <td>15.0</td>\n",
       "      <td>21.0</td>\n",
       "      <td>15.0</td>\n",
       "      <td>15.0</td>\n",
       "      <td>17.0</td>\n",
       "      <td>13.0</td>\n",
       "      <td>15.0</td>\n",
       "      <td>13.0</td>\n",
       "      <td>10.0</td>\n",
       "    </tr>\n",
       "    <tr>\n",
       "      <th>Winter</th>\n",
       "      <td>NaN</td>\n",
       "      <td>20.0</td>\n",
       "      <td>19.0</td>\n",
       "      <td>17.0</td>\n",
       "      <td>16.0</td>\n",
       "      <td>NaN</td>\n",
       "      <td>NaN</td>\n",
       "      <td>NaN</td>\n",
       "      <td>16.0</td>\n",
       "      <td>16.0</td>\n",
       "      <td>...</td>\n",
       "      <td>NaN</td>\n",
       "      <td>NaN</td>\n",
       "      <td>NaN</td>\n",
       "      <td>NaN</td>\n",
       "      <td>NaN</td>\n",
       "      <td>NaN</td>\n",
       "      <td>15.0</td>\n",
       "      <td>NaN</td>\n",
       "      <td>20.0</td>\n",
       "      <td>11.0</td>\n",
       "    </tr>\n",
       "    <tr>\n",
       "      <th>All</th>\n",
       "      <td>17.0</td>\n",
       "      <td>15.0</td>\n",
       "      <td>16.0</td>\n",
       "      <td>14.0</td>\n",
       "      <td>15.0</td>\n",
       "      <td>13.0</td>\n",
       "      <td>14.0</td>\n",
       "      <td>16.0</td>\n",
       "      <td>13.0</td>\n",
       "      <td>15.0</td>\n",
       "      <td>...</td>\n",
       "      <td>16.0</td>\n",
       "      <td>15.0</td>\n",
       "      <td>21.0</td>\n",
       "      <td>15.0</td>\n",
       "      <td>15.0</td>\n",
       "      <td>17.0</td>\n",
       "      <td>13.0</td>\n",
       "      <td>15.0</td>\n",
       "      <td>13.0</td>\n",
       "      <td>10.0</td>\n",
       "    </tr>\n",
       "  </tbody>\n",
       "</table>\n",
       "<p>3 rows × 229 columns</p>\n",
       "</div>"
      ],
      "text/plain": [
       "NOC      AFG   AHO   ALB   ALG   AND   ANG   ANT   ANZ   ARG   ARM  ...   VIN  \\\n",
       "Season                                                              ...         \n",
       "Summer  17.0  15.0  16.0  14.0  15.0  13.0  14.0  16.0  13.0  15.0  ...  16.0   \n",
       "Winter   NaN  20.0  19.0  17.0  16.0   NaN   NaN   NaN  16.0  16.0  ...   NaN   \n",
       "All     17.0  15.0  16.0  14.0  15.0  13.0  14.0  16.0  13.0  15.0  ...  16.0   \n",
       "\n",
       "NOC      VNM   WIF   YAR   YEM   YMD   YUG   ZAM   ZIM   All  \n",
       "Season                                                        \n",
       "Summer  15.0  21.0  15.0  15.0  17.0  13.0  15.0  13.0  10.0  \n",
       "Winter   NaN   NaN   NaN   NaN   NaN  15.0   NaN  20.0  11.0  \n",
       "All     15.0  21.0  15.0  15.0  17.0  13.0  15.0  13.0  10.0  \n",
       "\n",
       "[3 rows x 229 columns]"
      ]
     },
     "execution_count": 30,
     "metadata": {},
     "output_type": "execute_result"
    }
   ],
   "source": [
    "df.pivot_table(values='Age',index='Season', columns='NOC',aggfunc='min',margins=True)"
   ]
  },
  {
   "cell_type": "code",
   "execution_count": 31,
   "id": "90209bca",
   "metadata": {},
   "outputs": [
    {
     "data": {
      "text/html": [
       "<div>\n",
       "<style scoped>\n",
       "    .dataframe tbody tr th:only-of-type {\n",
       "        vertical-align: middle;\n",
       "    }\n",
       "\n",
       "    .dataframe tbody tr th {\n",
       "        vertical-align: top;\n",
       "    }\n",
       "\n",
       "    .dataframe thead tr th {\n",
       "        text-align: left;\n",
       "    }\n",
       "\n",
       "    .dataframe thead tr:last-of-type th {\n",
       "        text-align: right;\n",
       "    }\n",
       "</style>\n",
       "<table border=\"1\" class=\"dataframe\">\n",
       "  <thead>\n",
       "    <tr>\n",
       "      <th></th>\n",
       "      <th colspan=\"4\" halign=\"left\">Age</th>\n",
       "      <th colspan=\"2\" halign=\"left\">Weight</th>\n",
       "    </tr>\n",
       "    <tr>\n",
       "      <th></th>\n",
       "      <th colspan=\"2\" halign=\"left\">max</th>\n",
       "      <th colspan=\"2\" halign=\"left\">min</th>\n",
       "      <th colspan=\"2\" halign=\"left\">mean</th>\n",
       "    </tr>\n",
       "    <tr>\n",
       "      <th>Sex</th>\n",
       "      <th>F</th>\n",
       "      <th>M</th>\n",
       "      <th>F</th>\n",
       "      <th>M</th>\n",
       "      <th>F</th>\n",
       "      <th>M</th>\n",
       "    </tr>\n",
       "    <tr>\n",
       "      <th>NOC</th>\n",
       "      <th></th>\n",
       "      <th></th>\n",
       "      <th></th>\n",
       "      <th></th>\n",
       "      <th></th>\n",
       "      <th></th>\n",
       "    </tr>\n",
       "  </thead>\n",
       "  <tbody>\n",
       "    <tr>\n",
       "      <th>AFG</th>\n",
       "      <td>NaN</td>\n",
       "      <td>29.0</td>\n",
       "      <td>NaN</td>\n",
       "      <td>17.0</td>\n",
       "      <td>NaN</td>\n",
       "      <td>63.181818</td>\n",
       "    </tr>\n",
       "    <tr>\n",
       "      <th>ALG</th>\n",
       "      <td>NaN</td>\n",
       "      <td>33.0</td>\n",
       "      <td>NaN</td>\n",
       "      <td>16.0</td>\n",
       "      <td>NaN</td>\n",
       "      <td>70.450980</td>\n",
       "    </tr>\n",
       "    <tr>\n",
       "      <th>AND</th>\n",
       "      <td>NaN</td>\n",
       "      <td>33.0</td>\n",
       "      <td>NaN</td>\n",
       "      <td>29.0</td>\n",
       "      <td>NaN</td>\n",
       "      <td>85.500000</td>\n",
       "    </tr>\n",
       "    <tr>\n",
       "      <th>ANG</th>\n",
       "      <td>17.0</td>\n",
       "      <td>25.0</td>\n",
       "      <td>17.0</td>\n",
       "      <td>13.0</td>\n",
       "      <td>52.00</td>\n",
       "      <td>62.300000</td>\n",
       "    </tr>\n",
       "    <tr>\n",
       "      <th>AUS</th>\n",
       "      <td>42.0</td>\n",
       "      <td>38.0</td>\n",
       "      <td>15.0</td>\n",
       "      <td>17.0</td>\n",
       "      <td>62.75</td>\n",
       "      <td>80.413043</td>\n",
       "    </tr>\n",
       "  </tbody>\n",
       "</table>\n",
       "</div>"
      ],
      "text/plain": [
       "      Age                   Weight           \n",
       "      max         min         mean           \n",
       "Sex     F     M     F     M      F          M\n",
       "NOC                                          \n",
       "AFG   NaN  29.0   NaN  17.0    NaN  63.181818\n",
       "ALG   NaN  33.0   NaN  16.0    NaN  70.450980\n",
       "AND   NaN  33.0   NaN  29.0    NaN  85.500000\n",
       "ANG  17.0  25.0  17.0  13.0  52.00  62.300000\n",
       "AUS  42.0  38.0  15.0  17.0  62.75  80.413043"
      ]
     },
     "execution_count": 31,
     "metadata": {},
     "output_type": "execute_result"
    }
   ],
   "source": [
    "# С применением сводной таблицы\n",
    "df_1980_s = df[df['Games'] == '1980 Summer'].drop_duplicates(subset='ID')\n",
    "df_1980_s.pivot_table(values=['Age','Weight'],\n",
    "                      index='NOC',\n",
    "                      columns='Sex',\n",
    "                      aggfunc={'Age': ['min','max'],\n",
    "                               'Weight': 'mean'}).head(5)"
   ]
  },
  {
   "cell_type": "code",
   "execution_count": 32,
   "id": "9b824e0b",
   "metadata": {},
   "outputs": [
    {
     "data": {
      "text/html": [
       "<div>\n",
       "<style scoped>\n",
       "    .dataframe tbody tr th:only-of-type {\n",
       "        vertical-align: middle;\n",
       "    }\n",
       "\n",
       "    .dataframe tbody tr th {\n",
       "        vertical-align: top;\n",
       "    }\n",
       "\n",
       "    .dataframe thead th {\n",
       "        text-align: right;\n",
       "    }\n",
       "</style>\n",
       "<table border=\"1\" class=\"dataframe\">\n",
       "  <thead>\n",
       "    <tr style=\"text-align: right;\">\n",
       "      <th>NOC</th>\n",
       "      <th>AFG</th>\n",
       "      <th>ALG</th>\n",
       "      <th>AND</th>\n",
       "      <th>ANG</th>\n",
       "      <th>AUS</th>\n",
       "      <th>AUT</th>\n",
       "      <th>BEL</th>\n",
       "      <th>BEN</th>\n",
       "      <th>BOT</th>\n",
       "      <th>BRA</th>\n",
       "      <th>...</th>\n",
       "      <th>TAN</th>\n",
       "      <th>TCH</th>\n",
       "      <th>TTO</th>\n",
       "      <th>UGA</th>\n",
       "      <th>URS</th>\n",
       "      <th>VEN</th>\n",
       "      <th>VIE</th>\n",
       "      <th>YUG</th>\n",
       "      <th>ZAM</th>\n",
       "      <th>ZIM</th>\n",
       "    </tr>\n",
       "    <tr>\n",
       "      <th>Sex</th>\n",
       "      <th></th>\n",
       "      <th></th>\n",
       "      <th></th>\n",
       "      <th></th>\n",
       "      <th></th>\n",
       "      <th></th>\n",
       "      <th></th>\n",
       "      <th></th>\n",
       "      <th></th>\n",
       "      <th></th>\n",
       "      <th></th>\n",
       "      <th></th>\n",
       "      <th></th>\n",
       "      <th></th>\n",
       "      <th></th>\n",
       "      <th></th>\n",
       "      <th></th>\n",
       "      <th></th>\n",
       "      <th></th>\n",
       "      <th></th>\n",
       "      <th></th>\n",
       "    </tr>\n",
       "  </thead>\n",
       "  <tbody>\n",
       "    <tr>\n",
       "      <th>F</th>\n",
       "      <td>NaN</td>\n",
       "      <td>NaN</td>\n",
       "      <td>NaN</td>\n",
       "      <td>1.0</td>\n",
       "      <td>28.0</td>\n",
       "      <td>19.0</td>\n",
       "      <td>16.0</td>\n",
       "      <td>1.0</td>\n",
       "      <td>NaN</td>\n",
       "      <td>15.0</td>\n",
       "      <td>...</td>\n",
       "      <td>5.0</td>\n",
       "      <td>47.0</td>\n",
       "      <td>NaN</td>\n",
       "      <td>NaN</td>\n",
       "      <td>149.0</td>\n",
       "      <td>NaN</td>\n",
       "      <td>8.0</td>\n",
       "      <td>28.0</td>\n",
       "      <td>NaN</td>\n",
       "      <td>19.0</td>\n",
       "    </tr>\n",
       "    <tr>\n",
       "      <th>M</th>\n",
       "      <td>11.0</td>\n",
       "      <td>54.0</td>\n",
       "      <td>2.0</td>\n",
       "      <td>10.0</td>\n",
       "      <td>92.0</td>\n",
       "      <td>64.0</td>\n",
       "      <td>43.0</td>\n",
       "      <td>15.0</td>\n",
       "      <td>7.0</td>\n",
       "      <td>91.0</td>\n",
       "      <td>...</td>\n",
       "      <td>36.0</td>\n",
       "      <td>162.0</td>\n",
       "      <td>9.0</td>\n",
       "      <td>13.0</td>\n",
       "      <td>340.0</td>\n",
       "      <td>37.0</td>\n",
       "      <td>22.0</td>\n",
       "      <td>136.0</td>\n",
       "      <td>37.0</td>\n",
       "      <td>23.0</td>\n",
       "    </tr>\n",
       "  </tbody>\n",
       "</table>\n",
       "<p>2 rows × 80 columns</p>\n",
       "</div>"
      ],
      "text/plain": [
       "NOC   AFG   ALG  AND   ANG   AUS   AUT   BEL   BEN  BOT   BRA  ...   TAN  \\\n",
       "Sex                                                            ...         \n",
       "F     NaN   NaN  NaN   1.0  28.0  19.0  16.0   1.0  NaN  15.0  ...   5.0   \n",
       "M    11.0  54.0  2.0  10.0  92.0  64.0  43.0  15.0  7.0  91.0  ...  36.0   \n",
       "\n",
       "NOC    TCH  TTO   UGA    URS   VEN   VIE    YUG   ZAM   ZIM  \n",
       "Sex                                                          \n",
       "F     47.0  NaN   NaN  149.0   NaN   8.0   28.0   NaN  19.0  \n",
       "M    162.0  9.0  13.0  340.0  37.0  22.0  136.0  37.0  23.0  \n",
       "\n",
       "[2 rows x 80 columns]"
      ]
     },
     "execution_count": 32,
     "metadata": {},
     "output_type": "execute_result"
    }
   ],
   "source": [
    "# Без применения сводной таблицы\n",
    "df_1980_s.groupby(['NOC','Sex'])['ID'].count().unstack(0)"
   ]
  },
  {
   "cell_type": "markdown",
   "id": "d3388078",
   "metadata": {},
   "source": [
    "## Объединение датафреймов по общему значению (соединение) - merge (join)"
   ]
  },
  {
   "cell_type": "code",
   "execution_count": 33,
   "id": "f30b4c71",
   "metadata": {},
   "outputs": [],
   "source": [
    "df1 = pd.DataFrame({'id':['1001','2196','3455','7893','1011'],\n",
    "                    'name':['ручка','карандаш','мяч','кружка','часы'],\n",
    "                    'color': ['white','red','red','black', 'blue']})"
   ]
  },
  {
   "cell_type": "code",
   "execution_count": 34,
   "id": "c407c912",
   "metadata": {},
   "outputs": [],
   "source": [
    "df2 = pd.DataFrame({'id':['1011','','7893', '7222'],\n",
    "                    'code':['1011','3455','', '7222'],\n",
    "                    'price': [22.33, 33.21, 33.62, 41.22]})"
   ]
  },
  {
   "cell_type": "code",
   "execution_count": 35,
   "id": "09e98855",
   "metadata": {},
   "outputs": [
    {
     "data": {
      "text/html": [
       "<div>\n",
       "<style scoped>\n",
       "    .dataframe tbody tr th:only-of-type {\n",
       "        vertical-align: middle;\n",
       "    }\n",
       "\n",
       "    .dataframe tbody tr th {\n",
       "        vertical-align: top;\n",
       "    }\n",
       "\n",
       "    .dataframe thead th {\n",
       "        text-align: right;\n",
       "    }\n",
       "</style>\n",
       "<table border=\"1\" class=\"dataframe\">\n",
       "  <thead>\n",
       "    <tr style=\"text-align: right;\">\n",
       "      <th></th>\n",
       "      <th>id</th>\n",
       "      <th>name</th>\n",
       "      <th>color</th>\n",
       "      <th>code</th>\n",
       "      <th>price</th>\n",
       "    </tr>\n",
       "  </thead>\n",
       "  <tbody>\n",
       "    <tr>\n",
       "      <th>0</th>\n",
       "      <td>7893</td>\n",
       "      <td>кружка</td>\n",
       "      <td>black</td>\n",
       "      <td></td>\n",
       "      <td>33.62</td>\n",
       "    </tr>\n",
       "    <tr>\n",
       "      <th>1</th>\n",
       "      <td>1011</td>\n",
       "      <td>часы</td>\n",
       "      <td>blue</td>\n",
       "      <td>1011</td>\n",
       "      <td>22.33</td>\n",
       "    </tr>\n",
       "  </tbody>\n",
       "</table>\n",
       "</div>"
      ],
      "text/plain": [
       "     id    name  color  code  price\n",
       "0  7893  кружка  black        33.62\n",
       "1  1011    часы   blue  1011  22.33"
      ]
     },
     "execution_count": 35,
     "metadata": {},
     "output_type": "execute_result"
    }
   ],
   "source": [
    "df_inner = df1.merge(df2) \n",
    "df_inner"
   ]
  },
  {
   "cell_type": "markdown",
   "id": "138ca3a0",
   "metadata": {},
   "source": [
    "### Библеотека OS \n",
    "### позволяет обращаться к файлам и объединять по ключу. "
   ]
  },
  {
   "cell_type": "code",
   "execution_count": 36,
   "id": "e320b041",
   "metadata": {},
   "outputs": [
    {
     "data": {
      "text/html": [
       "<div>\n",
       "<style scoped>\n",
       "    .dataframe tbody tr th:only-of-type {\n",
       "        vertical-align: middle;\n",
       "    }\n",
       "\n",
       "    .dataframe tbody tr th {\n",
       "        vertical-align: top;\n",
       "    }\n",
       "\n",
       "    .dataframe thead th {\n",
       "        text-align: right;\n",
       "    }\n",
       "</style>\n",
       "<table border=\"1\" class=\"dataframe\">\n",
       "  <thead>\n",
       "    <tr style=\"text-align: right;\">\n",
       "      <th></th>\n",
       "      <th>Номер</th>\n",
       "      <th>Преподаватели</th>\n",
       "      <th>Должность</th>\n",
       "      <th>Компания</th>\n",
       "      <th>Компания_нов</th>\n",
       "      <th>Программа</th>\n",
       "      <th>Статус</th>\n",
       "      <th>Тренинг для тренеров</th>\n",
       "      <th>Провели</th>\n",
       "      <th>Разработано</th>\n",
       "      <th>Дата прохождения тренинга</th>\n",
       "      <th>Unnamed: 0</th>\n",
       "    </tr>\n",
       "  </thead>\n",
       "  <tbody>\n",
       "    <tr>\n",
       "      <th>0</th>\n",
       "      <td>1</td>\n",
       "      <td>Иванова Евгения Дмитриевна</td>\n",
       "      <td>Ведущий специалист</td>\n",
       "      <td>АЛЬФА ИТ</td>\n",
       "      <td>NaN</td>\n",
       "      <td>КИС ЕСМ</td>\n",
       "      <td>Не читает</td>\n",
       "      <td>Прошёл</td>\n",
       "      <td>15.0</td>\n",
       "      <td>1.0</td>\n",
       "      <td>NaT</td>\n",
       "      <td>NaN</td>\n",
       "    </tr>\n",
       "    <tr>\n",
       "      <th>1</th>\n",
       "      <td>2</td>\n",
       "      <td>Скворцов Семен Дмитриевич</td>\n",
       "      <td>Эксперт</td>\n",
       "      <td>Альфамаг</td>\n",
       "      <td>NaN</td>\n",
       "      <td>КИС ЕСМ</td>\n",
       "      <td>Не читает</td>\n",
       "      <td>Прошёл</td>\n",
       "      <td>6.0</td>\n",
       "      <td>1.0</td>\n",
       "      <td>NaT</td>\n",
       "      <td>NaN</td>\n",
       "    </tr>\n",
       "    <tr>\n",
       "      <th>2</th>\n",
       "      <td>3</td>\n",
       "      <td>Скалов Руслан Германович</td>\n",
       "      <td>Ведущий специалист</td>\n",
       "      <td>АЛЬФА ИТ</td>\n",
       "      <td>NaN</td>\n",
       "      <td>B2B</td>\n",
       "      <td>Не читает</td>\n",
       "      <td>Прошёл</td>\n",
       "      <td>10.0</td>\n",
       "      <td>3.0</td>\n",
       "      <td>NaT</td>\n",
       "      <td>NaN</td>\n",
       "    </tr>\n",
       "    <tr>\n",
       "      <th>3</th>\n",
       "      <td>4</td>\n",
       "      <td>Дедовский Федор Николаевич</td>\n",
       "      <td>Ведущий специалист</td>\n",
       "      <td>АЛЬФА ИТ</td>\n",
       "      <td>NaN</td>\n",
       "      <td>SharePoint</td>\n",
       "      <td>Читает</td>\n",
       "      <td>Прошёл</td>\n",
       "      <td>20.0</td>\n",
       "      <td>1.0</td>\n",
       "      <td>NaT</td>\n",
       "      <td>NaN</td>\n",
       "    </tr>\n",
       "    <tr>\n",
       "      <th>4</th>\n",
       "      <td>5</td>\n",
       "      <td>Дмитриев Павел Валентинович</td>\n",
       "      <td>Ведущий специалист</td>\n",
       "      <td>АЛЬФА</td>\n",
       "      <td>NaN</td>\n",
       "      <td>АРМ и MS Office</td>\n",
       "      <td>Читает</td>\n",
       "      <td>Прошёл</td>\n",
       "      <td>58.0</td>\n",
       "      <td>4.0</td>\n",
       "      <td>NaT</td>\n",
       "      <td>NaN</td>\n",
       "    </tr>\n",
       "  </tbody>\n",
       "</table>\n",
       "</div>"
      ],
      "text/plain": [
       "   Номер                Преподаватели           Должность  Компания  \\\n",
       "0      1   Иванова Евгения Дмитриевна  Ведущий специалист  АЛЬФА ИТ   \n",
       "1      2    Скворцов Семен Дмитриевич             Эксперт  Альфамаг   \n",
       "2      3     Скалов Руслан Германович  Ведущий специалист  АЛЬФА ИТ   \n",
       "3      4   Дедовский Федор Николаевич  Ведущий специалист  АЛЬФА ИТ   \n",
       "4      5  Дмитриев Павел Валентинович  Ведущий специалист     АЛЬФА   \n",
       "\n",
       "   Компания_нов        Программа      Статус Тренинг для тренеров  Провели  \\\n",
       "0           NaN          КИС ЕСМ  Не читает                Прошёл     15.0   \n",
       "1           NaN          КИС ЕСМ  Не читает                Прошёл      6.0   \n",
       "2           NaN              B2B  Не читает                Прошёл     10.0   \n",
       "3           NaN       SharePoint      Читает               Прошёл     20.0   \n",
       "4           NaN  АРМ и MS Office      Читает               Прошёл     58.0   \n",
       "\n",
       "   Разработано Дата прохождения тренинга  Unnamed: 0  \n",
       "0          1.0                       NaT         NaN  \n",
       "1          1.0                       NaT         NaN  \n",
       "2          3.0                       NaT         NaN  \n",
       "3          1.0                       NaT         NaN  \n",
       "4          4.0                       NaT         NaN  "
      ]
     },
     "execution_count": 36,
     "metadata": {},
     "output_type": "execute_result"
    }
   ],
   "source": [
    "import os\n",
    "\n",
    "pd.read_excel('treners.xlsx').to_excel('treners_1.xlsx')\n",
    "\n",
    "data = pd.DataFrame()\n",
    "files = [i for i in os.listdir() if i.startswith('treners')]\n",
    "\n",
    "for item in files:\n",
    "    temp = pd.read_excel(item)\n",
    "    data = pd.concat([data, temp])\n",
    "data.head(5)"
   ]
  },
  {
   "cell_type": "markdown",
   "id": "e5821816",
   "metadata": {},
   "source": [
    "## Настройка merge\n",
    "### Виды соединений\n",
    "\n",
    "Параметр: how:\n",
    "\n",
    "    inner (по умолчанию)\n",
    "    left\n",
    "    right\n",
    "    outer"
   ]
  },
  {
   "cell_type": "code",
   "execution_count": 37,
   "id": "98cae9ff",
   "metadata": {},
   "outputs": [
    {
     "data": {
      "text/html": [
       "<div>\n",
       "<style scoped>\n",
       "    .dataframe tbody tr th:only-of-type {\n",
       "        vertical-align: middle;\n",
       "    }\n",
       "\n",
       "    .dataframe tbody tr th {\n",
       "        vertical-align: top;\n",
       "    }\n",
       "\n",
       "    .dataframe thead th {\n",
       "        text-align: right;\n",
       "    }\n",
       "</style>\n",
       "<table border=\"1\" class=\"dataframe\">\n",
       "  <thead>\n",
       "    <tr style=\"text-align: right;\">\n",
       "      <th></th>\n",
       "      <th>id</th>\n",
       "      <th>name</th>\n",
       "      <th>color</th>\n",
       "      <th>code</th>\n",
       "      <th>price</th>\n",
       "    </tr>\n",
       "  </thead>\n",
       "  <tbody>\n",
       "    <tr>\n",
       "      <th>0</th>\n",
       "      <td>1001</td>\n",
       "      <td>ручка</td>\n",
       "      <td>white</td>\n",
       "      <td>NaN</td>\n",
       "      <td>NaN</td>\n",
       "    </tr>\n",
       "    <tr>\n",
       "      <th>1</th>\n",
       "      <td>2196</td>\n",
       "      <td>карандаш</td>\n",
       "      <td>red</td>\n",
       "      <td>NaN</td>\n",
       "      <td>NaN</td>\n",
       "    </tr>\n",
       "  </tbody>\n",
       "</table>\n",
       "</div>"
      ],
      "text/plain": [
       "     id      name  color code  price\n",
       "0  1001     ручка  white  NaN    NaN\n",
       "1  2196  карандаш    red  NaN    NaN"
      ]
     },
     "execution_count": 37,
     "metadata": {},
     "output_type": "execute_result"
    }
   ],
   "source": [
    "df_outer = df1.merge(df2, how='outer') \n",
    "df_outer.head(2)"
   ]
  },
  {
   "cell_type": "code",
   "execution_count": 38,
   "id": "a64c669f",
   "metadata": {},
   "outputs": [
    {
     "data": {
      "text/html": [
       "<div>\n",
       "<style scoped>\n",
       "    .dataframe tbody tr th:only-of-type {\n",
       "        vertical-align: middle;\n",
       "    }\n",
       "\n",
       "    .dataframe tbody tr th {\n",
       "        vertical-align: top;\n",
       "    }\n",
       "\n",
       "    .dataframe thead th {\n",
       "        text-align: right;\n",
       "    }\n",
       "</style>\n",
       "<table border=\"1\" class=\"dataframe\">\n",
       "  <thead>\n",
       "    <tr style=\"text-align: right;\">\n",
       "      <th></th>\n",
       "      <th>id</th>\n",
       "      <th>name</th>\n",
       "      <th>color</th>\n",
       "      <th>code</th>\n",
       "      <th>price</th>\n",
       "    </tr>\n",
       "  </thead>\n",
       "  <tbody>\n",
       "    <tr>\n",
       "      <th>0</th>\n",
       "      <td>1001</td>\n",
       "      <td>ручка</td>\n",
       "      <td>white</td>\n",
       "      <td>NaN</td>\n",
       "      <td>NaN</td>\n",
       "    </tr>\n",
       "    <tr>\n",
       "      <th>1</th>\n",
       "      <td>2196</td>\n",
       "      <td>карандаш</td>\n",
       "      <td>red</td>\n",
       "      <td>NaN</td>\n",
       "      <td>NaN</td>\n",
       "    </tr>\n",
       "  </tbody>\n",
       "</table>\n",
       "</div>"
      ],
      "text/plain": [
       "     id      name  color code  price\n",
       "0  1001     ручка  white  NaN    NaN\n",
       "1  2196  карандаш    red  NaN    NaN"
      ]
     },
     "execution_count": 38,
     "metadata": {},
     "output_type": "execute_result"
    }
   ],
   "source": [
    "df_left = df1.merge(df2, how='left') \n",
    "df_left.head(2)"
   ]
  },
  {
   "cell_type": "code",
   "execution_count": 39,
   "id": "8b04c9b9",
   "metadata": {},
   "outputs": [
    {
     "data": {
      "text/html": [
       "<div>\n",
       "<style scoped>\n",
       "    .dataframe tbody tr th:only-of-type {\n",
       "        vertical-align: middle;\n",
       "    }\n",
       "\n",
       "    .dataframe tbody tr th {\n",
       "        vertical-align: top;\n",
       "    }\n",
       "\n",
       "    .dataframe thead th {\n",
       "        text-align: right;\n",
       "    }\n",
       "</style>\n",
       "<table border=\"1\" class=\"dataframe\">\n",
       "  <thead>\n",
       "    <tr style=\"text-align: right;\">\n",
       "      <th></th>\n",
       "      <th>id</th>\n",
       "      <th>name</th>\n",
       "      <th>color</th>\n",
       "      <th>code</th>\n",
       "      <th>price</th>\n",
       "    </tr>\n",
       "  </thead>\n",
       "  <tbody>\n",
       "    <tr>\n",
       "      <th>0</th>\n",
       "      <td>1011</td>\n",
       "      <td>часы</td>\n",
       "      <td>blue</td>\n",
       "      <td>1011</td>\n",
       "      <td>22.33</td>\n",
       "    </tr>\n",
       "    <tr>\n",
       "      <th>1</th>\n",
       "      <td></td>\n",
       "      <td>NaN</td>\n",
       "      <td>NaN</td>\n",
       "      <td>3455</td>\n",
       "      <td>33.21</td>\n",
       "    </tr>\n",
       "  </tbody>\n",
       "</table>\n",
       "</div>"
      ],
      "text/plain": [
       "     id  name color  code  price\n",
       "0  1011  часы  blue  1011  22.33\n",
       "1         NaN   NaN  3455  33.21"
      ]
     },
     "execution_count": 39,
     "metadata": {},
     "output_type": "execute_result"
    }
   ],
   "source": [
    "df_right = df1.merge(df2, how='right') \n",
    "df_right.head(2)"
   ]
  },
  {
   "cell_type": "markdown",
   "id": "87893860",
   "metadata": {},
   "source": [
    "### Параметры для указания имен столбцов с общими значениями:\n",
    "\n",
    "    left_on\n",
    "    right_on"
   ]
  },
  {
   "cell_type": "code",
   "execution_count": 40,
   "id": "18ce49cf",
   "metadata": {},
   "outputs": [
    {
     "data": {
      "text/html": [
       "<div>\n",
       "<style scoped>\n",
       "    .dataframe tbody tr th:only-of-type {\n",
       "        vertical-align: middle;\n",
       "    }\n",
       "\n",
       "    .dataframe tbody tr th {\n",
       "        vertical-align: top;\n",
       "    }\n",
       "\n",
       "    .dataframe thead th {\n",
       "        text-align: right;\n",
       "    }\n",
       "</style>\n",
       "<table border=\"1\" class=\"dataframe\">\n",
       "  <thead>\n",
       "    <tr style=\"text-align: right;\">\n",
       "      <th></th>\n",
       "      <th>id</th>\n",
       "      <th>name</th>\n",
       "      <th>color</th>\n",
       "      <th>code</th>\n",
       "      <th>price</th>\n",
       "    </tr>\n",
       "  </thead>\n",
       "  <tbody>\n",
       "    <tr>\n",
       "      <th>0</th>\n",
       "      <td>7893</td>\n",
       "      <td>кружка</td>\n",
       "      <td>black</td>\n",
       "      <td></td>\n",
       "      <td>33.62</td>\n",
       "    </tr>\n",
       "    <tr>\n",
       "      <th>1</th>\n",
       "      <td>1011</td>\n",
       "      <td>часы</td>\n",
       "      <td>blue</td>\n",
       "      <td>1011</td>\n",
       "      <td>22.33</td>\n",
       "    </tr>\n",
       "  </tbody>\n",
       "</table>\n",
       "</div>"
      ],
      "text/plain": [
       "     id    name  color  code  price\n",
       "0  7893  кружка  black        33.62\n",
       "1  1011    часы   blue  1011  22.33"
      ]
     },
     "execution_count": 40,
     "metadata": {},
     "output_type": "execute_result"
    }
   ],
   "source": [
    "df1.merge(df2, on='id').head(2)"
   ]
  },
  {
   "cell_type": "code",
   "execution_count": 41,
   "id": "f75d88a1",
   "metadata": {},
   "outputs": [
    {
     "data": {
      "text/html": [
       "<div>\n",
       "<style scoped>\n",
       "    .dataframe tbody tr th:only-of-type {\n",
       "        vertical-align: middle;\n",
       "    }\n",
       "\n",
       "    .dataframe tbody tr th {\n",
       "        vertical-align: top;\n",
       "    }\n",
       "\n",
       "    .dataframe thead th {\n",
       "        text-align: right;\n",
       "    }\n",
       "</style>\n",
       "<table border=\"1\" class=\"dataframe\">\n",
       "  <thead>\n",
       "    <tr style=\"text-align: right;\">\n",
       "      <th></th>\n",
       "      <th>id_x</th>\n",
       "      <th>name</th>\n",
       "      <th>color</th>\n",
       "      <th>id_y</th>\n",
       "      <th>code</th>\n",
       "      <th>price</th>\n",
       "    </tr>\n",
       "  </thead>\n",
       "  <tbody>\n",
       "    <tr>\n",
       "      <th>0</th>\n",
       "      <td>3455</td>\n",
       "      <td>мяч</td>\n",
       "      <td>red</td>\n",
       "      <td></td>\n",
       "      <td>3455</td>\n",
       "      <td>33.21</td>\n",
       "    </tr>\n",
       "    <tr>\n",
       "      <th>1</th>\n",
       "      <td>1011</td>\n",
       "      <td>часы</td>\n",
       "      <td>blue</td>\n",
       "      <td>1011</td>\n",
       "      <td>1011</td>\n",
       "      <td>22.33</td>\n",
       "    </tr>\n",
       "  </tbody>\n",
       "</table>\n",
       "</div>"
      ],
      "text/plain": [
       "   id_x  name color  id_y  code  price\n",
       "0  3455   мяч   red        3455  33.21\n",
       "1  1011  часы  blue  1011  1011  22.33"
      ]
     },
     "execution_count": 41,
     "metadata": {},
     "output_type": "execute_result"
    }
   ],
   "source": [
    "df1.merge(df2, left_on='id', right_on='code').head(2)"
   ]
  },
  {
   "cell_type": "code",
   "execution_count": 42,
   "id": "21afd9fa",
   "metadata": {},
   "outputs": [
    {
     "data": {
      "text/html": [
       "<div>\n",
       "<style scoped>\n",
       "    .dataframe tbody tr th:only-of-type {\n",
       "        vertical-align: middle;\n",
       "    }\n",
       "\n",
       "    .dataframe tbody tr th {\n",
       "        vertical-align: top;\n",
       "    }\n",
       "\n",
       "    .dataframe thead th {\n",
       "        text-align: right;\n",
       "    }\n",
       "</style>\n",
       "<table border=\"1\" class=\"dataframe\">\n",
       "  <thead>\n",
       "    <tr style=\"text-align: right;\">\n",
       "      <th></th>\n",
       "      <th>id_x</th>\n",
       "      <th>name</th>\n",
       "      <th>color</th>\n",
       "      <th>code_x</th>\n",
       "      <th>price_x</th>\n",
       "      <th>id_y</th>\n",
       "      <th>code_y</th>\n",
       "      <th>price_y</th>\n",
       "    </tr>\n",
       "  </thead>\n",
       "  <tbody>\n",
       "    <tr>\n",
       "      <th>0</th>\n",
       "      <td>3455</td>\n",
       "      <td>мяч</td>\n",
       "      <td>red</td>\n",
       "      <td>NaN</td>\n",
       "      <td>NaN</td>\n",
       "      <td></td>\n",
       "      <td>3455</td>\n",
       "      <td>33.21</td>\n",
       "    </tr>\n",
       "    <tr>\n",
       "      <th>1</th>\n",
       "      <td>1011</td>\n",
       "      <td>часы</td>\n",
       "      <td>blue</td>\n",
       "      <td>1011</td>\n",
       "      <td>22.33</td>\n",
       "      <td>1011</td>\n",
       "      <td>1011</td>\n",
       "      <td>22.33</td>\n",
       "    </tr>\n",
       "  </tbody>\n",
       "</table>\n",
       "</div>"
      ],
      "text/plain": [
       "   id_x  name color code_x  price_x  id_y code_y  price_y\n",
       "0  3455   мяч   red    NaN      NaN         3455    33.21\n",
       "1  1011  часы  blue   1011    22.33  1011   1011    22.33"
      ]
     },
     "execution_count": 42,
     "metadata": {},
     "output_type": "execute_result"
    }
   ],
   "source": [
    "df1.merge(df2, on='id', how='outer').merge(df2, left_on='id', right_on='code').head(2)"
   ]
  },
  {
   "cell_type": "markdown",
   "id": "933d4c45",
   "metadata": {},
   "source": [
    "## Работа с текстовыми данными\n",
    "\n",
    "    .str.replace - Заменяет одну подстроку на другую в каждой ячейке столбца\n",
    "    .str.split - Делит строку на сколько подстрок с использованием разделителя\n",
    "    .str.contains - Проверяет наличие подстроки в каждой из ячеек столбца\n",
    "    .str.upper - Переводит текст в верхний регистр\n",
    "    .str.lower - Переводит текст в нижний регистр\n",
    "    .str.startswith - Проверяет для каждой из ячеек столбца, начинается ли текст с подстроки\n",
    "    .str.endswith - Проверяет для каждой из ячеек столбца, заканчивается ли текст с подстрокой\n",
    "    \n",
    "Эти функции прменяются к столбцу"
   ]
  },
  {
   "cell_type": "code",
   "execution_count": 43,
   "id": "9cbacbbd",
   "metadata": {},
   "outputs": [],
   "source": [
    "# Изменение регистра\n",
    "data = pd.read_excel('treners.xlsx')"
   ]
  },
  {
   "cell_type": "code",
   "execution_count": 44,
   "id": "a61cfcc0",
   "metadata": {},
   "outputs": [
    {
     "data": {
      "text/plain": [
       "0       иванова евгения дмитриевна\n",
       "1        скворцов семен дмитриевич\n",
       "2         скалов руслан германович\n",
       "3       дедовский федор николаевич\n",
       "4      дмитриев павел валентинович\n",
       "                  ...             \n",
       "59    кузнецов александр сергеевич\n",
       "60       новостин никита сергеевич\n",
       "61       зотова татьяна николаевна\n",
       "62           исаев антон сергеевич\n",
       "63       капцов александр олегович\n",
       "Name: Преподаватели, Length: 64, dtype: object"
      ]
     },
     "execution_count": 44,
     "metadata": {},
     "output_type": "execute_result"
    }
   ],
   "source": [
    "data['Преподаватели'].str.lower()"
   ]
  },
  {
   "cell_type": "code",
   "execution_count": 45,
   "id": "517c8540",
   "metadata": {},
   "outputs": [
    {
     "data": {
      "text/plain": [
       "array(['АЛЬФА ИТ', 'Альфамаг', 'АЛЬФА', 'АО Альфамаг', 'АО \"Альфамаг\"',\n",
       "       'ООО АЛЬФА', 'ООО АЛЬФА ИТ', 'ООО \"АЛЬФА\"', 'ООО «АЛЬФА ИТ»',\n",
       "       'Ооо АЛЬФА', nan], dtype=object)"
      ]
     },
     "execution_count": 45,
     "metadata": {},
     "output_type": "execute_result"
    }
   ],
   "source": [
    "# Замены подстроки в строке\n",
    "data['Компания'] = data['Компания'].str.replace('\\n','')\n",
    "data['Компания'].unique()"
   ]
  },
  {
   "cell_type": "code",
   "execution_count": 46,
   "id": "47c78d28",
   "metadata": {},
   "outputs": [
    {
     "data": {
      "text/html": [
       "<div>\n",
       "<style scoped>\n",
       "    .dataframe tbody tr th:only-of-type {\n",
       "        vertical-align: middle;\n",
       "    }\n",
       "\n",
       "    .dataframe tbody tr th {\n",
       "        vertical-align: top;\n",
       "    }\n",
       "\n",
       "    .dataframe thead th {\n",
       "        text-align: right;\n",
       "    }\n",
       "</style>\n",
       "<table border=\"1\" class=\"dataframe\">\n",
       "  <thead>\n",
       "    <tr style=\"text-align: right;\">\n",
       "      <th></th>\n",
       "      <th>Номер</th>\n",
       "      <th>Преподаватели</th>\n",
       "      <th>Должность</th>\n",
       "      <th>Компания</th>\n",
       "      <th>Компания_нов</th>\n",
       "      <th>Программа</th>\n",
       "      <th>Статус</th>\n",
       "      <th>Тренинг для тренеров</th>\n",
       "      <th>Провели</th>\n",
       "      <th>Разработано</th>\n",
       "      <th>Дата прохождения тренинга</th>\n",
       "      <th>Ф</th>\n",
       "      <th>И</th>\n",
       "      <th>О</th>\n",
       "    </tr>\n",
       "  </thead>\n",
       "  <tbody>\n",
       "    <tr>\n",
       "      <th>0</th>\n",
       "      <td>1</td>\n",
       "      <td>Иванова Евгения Дмитриевна</td>\n",
       "      <td>Ведущий специалист</td>\n",
       "      <td>АЛЬФА ИТ</td>\n",
       "      <td>NaN</td>\n",
       "      <td>КИС ЕСМ</td>\n",
       "      <td>Не читает</td>\n",
       "      <td>Прошёл</td>\n",
       "      <td>15.0</td>\n",
       "      <td>1.0</td>\n",
       "      <td>NaT</td>\n",
       "      <td>Иванова</td>\n",
       "      <td>Евгения</td>\n",
       "      <td>Дмитриевна</td>\n",
       "    </tr>\n",
       "    <tr>\n",
       "      <th>1</th>\n",
       "      <td>2</td>\n",
       "      <td>Скворцов Семен Дмитриевич</td>\n",
       "      <td>Эксперт</td>\n",
       "      <td>Альфамаг</td>\n",
       "      <td>NaN</td>\n",
       "      <td>КИС ЕСМ</td>\n",
       "      <td>Не читает</td>\n",
       "      <td>Прошёл</td>\n",
       "      <td>6.0</td>\n",
       "      <td>1.0</td>\n",
       "      <td>NaT</td>\n",
       "      <td>Скворцов</td>\n",
       "      <td>Семен</td>\n",
       "      <td>Дмитриевич</td>\n",
       "    </tr>\n",
       "  </tbody>\n",
       "</table>\n",
       "</div>"
      ],
      "text/plain": [
       "   Номер               Преподаватели           Должность  Компания  \\\n",
       "0      1  Иванова Евгения Дмитриевна  Ведущий специалист  АЛЬФА ИТ   \n",
       "1      2   Скворцов Семен Дмитриевич             Эксперт  Альфамаг   \n",
       "\n",
       "   Компания_нов Программа      Статус Тренинг для тренеров  Провели  \\\n",
       "0           NaN   КИС ЕСМ  Не читает                Прошёл     15.0   \n",
       "1           NaN   КИС ЕСМ  Не читает                Прошёл      6.0   \n",
       "\n",
       "   Разработано Дата прохождения тренинга         Ф        И           О  \n",
       "0          1.0                       NaT   Иванова  Евгения  Дмитриевна  \n",
       "1          1.0                       NaT  Скворцов    Семен  Дмитриевич  "
      ]
     },
     "execution_count": 46,
     "metadata": {},
     "output_type": "execute_result"
    }
   ],
   "source": [
    "# Разбитие столбца на несколько колонок по разделителю split(expand=True)\n",
    "data[['Ф','И','О']] = data['Преподаватели'].str.split(expand=True)\n",
    "data.head(2)"
   ]
  },
  {
   "cell_type": "code",
   "execution_count": 47,
   "id": "090c9bab",
   "metadata": {},
   "outputs": [
    {
     "data": {
      "text/html": [
       "<div>\n",
       "<style scoped>\n",
       "    .dataframe tbody tr th:only-of-type {\n",
       "        vertical-align: middle;\n",
       "    }\n",
       "\n",
       "    .dataframe tbody tr th {\n",
       "        vertical-align: top;\n",
       "    }\n",
       "\n",
       "    .dataframe thead th {\n",
       "        text-align: right;\n",
       "    }\n",
       "</style>\n",
       "<table border=\"1\" class=\"dataframe\">\n",
       "  <thead>\n",
       "    <tr style=\"text-align: right;\">\n",
       "      <th></th>\n",
       "      <th>Номер</th>\n",
       "      <th>Преподаватели</th>\n",
       "      <th>Должность</th>\n",
       "      <th>Компания</th>\n",
       "      <th>Компания_нов</th>\n",
       "      <th>Программа</th>\n",
       "      <th>Статус</th>\n",
       "      <th>Тренинг для тренеров</th>\n",
       "      <th>Провели</th>\n",
       "      <th>Разработано</th>\n",
       "      <th>Дата прохождения тренинга</th>\n",
       "      <th>Ф</th>\n",
       "      <th>И</th>\n",
       "      <th>О</th>\n",
       "    </tr>\n",
       "  </thead>\n",
       "  <tbody>\n",
       "    <tr>\n",
       "      <th>11</th>\n",
       "      <td>12</td>\n",
       "      <td>Тихомирова Анна Петровна</td>\n",
       "      <td>Ведущий специалист</td>\n",
       "      <td>АЛЬФА ИТ</td>\n",
       "      <td>NaN</td>\n",
       "      <td>1с</td>\n",
       "      <td>Читает</td>\n",
       "      <td>Прошёл</td>\n",
       "      <td>15.0</td>\n",
       "      <td>2.0</td>\n",
       "      <td>NaT</td>\n",
       "      <td>Тихомирова</td>\n",
       "      <td>Анна</td>\n",
       "      <td>Петровна</td>\n",
       "    </tr>\n",
       "    <tr>\n",
       "      <th>61</th>\n",
       "      <td>65</td>\n",
       "      <td>Зотова Татьяна Николаевна</td>\n",
       "      <td>NaN</td>\n",
       "      <td>NaN</td>\n",
       "      <td>NaN</td>\n",
       "      <td>NaN</td>\n",
       "      <td>NaN</td>\n",
       "      <td>Прошёл</td>\n",
       "      <td>NaN</td>\n",
       "      <td>NaN</td>\n",
       "      <td>2018-12-05</td>\n",
       "      <td>Зотова</td>\n",
       "      <td>Татьяна</td>\n",
       "      <td>Николаевна</td>\n",
       "    </tr>\n",
       "  </tbody>\n",
       "</table>\n",
       "</div>"
      ],
      "text/plain": [
       "    Номер              Преподаватели           Должность  Компания  \\\n",
       "11     12   Тихомирова Анна Петровна  Ведущий специалист  АЛЬФА ИТ   \n",
       "61     65  Зотова Татьяна Николаевна                 NaN       NaN   \n",
       "\n",
       "    Компания_нов Программа  Статус Тренинг для тренеров  Провели  Разработано  \\\n",
       "11           NaN        1с  Читает               Прошёл     15.0          2.0   \n",
       "61           NaN       NaN     NaN               Прошёл      NaN          NaN   \n",
       "\n",
       "   Дата прохождения тренинга           Ф        И           О  \n",
       "11                       NaT  Тихомирова     Анна    Петровна  \n",
       "61                2018-12-05      Зотова  Татьяна  Николаевна  "
      ]
     },
     "execution_count": 47,
     "metadata": {},
     "output_type": "execute_result"
    }
   ],
   "source": [
    "#Выводит строки по поиску в столбце Преподаватели на Т[^\\s]*а оканчивающееся на а\n",
    "data[data['Преподаватели'].str.contains('Т[^\\s]*а', regex=True)]"
   ]
  },
  {
   "cell_type": "markdown",
   "id": "dcf84075",
   "metadata": {},
   "source": [
    "## Работа с датами\n",
    "\n",
    "Выбор отдельных элементов из даты - свойство dt\n",
    "\n",
    "    .dt.year # Год\n",
    "    .dt.month # Месяц\n",
    "    .dt.day # День\n",
    "    .dt.hour # Час\n",
    "    .dt.minute # Минуту\n",
    "    .dt.second # Секунду"
   ]
  },
  {
   "cell_type": "code",
   "execution_count": 48,
   "id": "b0871df1",
   "metadata": {},
   "outputs": [
    {
     "data": {
      "text/html": [
       "<div>\n",
       "<style scoped>\n",
       "    .dataframe tbody tr th:only-of-type {\n",
       "        vertical-align: middle;\n",
       "    }\n",
       "\n",
       "    .dataframe tbody tr th {\n",
       "        vertical-align: top;\n",
       "    }\n",
       "\n",
       "    .dataframe thead th {\n",
       "        text-align: right;\n",
       "    }\n",
       "</style>\n",
       "<table border=\"1\" class=\"dataframe\">\n",
       "  <thead>\n",
       "    <tr style=\"text-align: right;\">\n",
       "      <th></th>\n",
       "      <th>Номер</th>\n",
       "      <th>Преподаватели</th>\n",
       "      <th>Должность</th>\n",
       "      <th>Компания</th>\n",
       "      <th>Компания_нов</th>\n",
       "      <th>Программа</th>\n",
       "      <th>Статус</th>\n",
       "      <th>Тренинг для тренеров</th>\n",
       "      <th>Провели</th>\n",
       "      <th>Разработано</th>\n",
       "      <th>Дата прохождения тренинга</th>\n",
       "      <th>Ф</th>\n",
       "      <th>И</th>\n",
       "      <th>О</th>\n",
       "    </tr>\n",
       "  </thead>\n",
       "  <tbody>\n",
       "    <tr>\n",
       "      <th>36</th>\n",
       "      <td>39</td>\n",
       "      <td>Богаткин Андрей Сергеевич</td>\n",
       "      <td>Специалист</td>\n",
       "      <td>ООО «АЛЬФА ИТ»</td>\n",
       "      <td>NaN</td>\n",
       "      <td>SAP</td>\n",
       "      <td>Читает</td>\n",
       "      <td>Прошёл</td>\n",
       "      <td>NaN</td>\n",
       "      <td>NaN</td>\n",
       "      <td>2018-05-23</td>\n",
       "      <td>Богаткин</td>\n",
       "      <td>Андрей</td>\n",
       "      <td>Сергеевич</td>\n",
       "    </tr>\n",
       "    <tr>\n",
       "      <th>37</th>\n",
       "      <td>40</td>\n",
       "      <td>Балашова Елена Капитоновна</td>\n",
       "      <td>Эксперт</td>\n",
       "      <td>ООО «АЛЬФА ИТ»</td>\n",
       "      <td>NaN</td>\n",
       "      <td>SAP</td>\n",
       "      <td>Читает</td>\n",
       "      <td>Прошёл</td>\n",
       "      <td>NaN</td>\n",
       "      <td>NaN</td>\n",
       "      <td>2018-05-23</td>\n",
       "      <td>Балашова</td>\n",
       "      <td>Елена</td>\n",
       "      <td>Капитоновна</td>\n",
       "    </tr>\n",
       "  </tbody>\n",
       "</table>\n",
       "</div>"
      ],
      "text/plain": [
       "    Номер               Преподаватели   Должность        Компания  \\\n",
       "36     39   Богаткин Андрей Сергеевич  Специалист  ООО «АЛЬФА ИТ»   \n",
       "37     40  Балашова Елена Капитоновна     Эксперт  ООО «АЛЬФА ИТ»   \n",
       "\n",
       "    Компания_нов Программа  Статус Тренинг для тренеров  Провели  Разработано  \\\n",
       "36           NaN       SAP  Читает               Прошёл      NaN          NaN   \n",
       "37           NaN       SAP  Читает               Прошёл      NaN          NaN   \n",
       "\n",
       "   Дата прохождения тренинга         Ф       И            О  \n",
       "36                2018-05-23  Богаткин  Андрей    Сергеевич  \n",
       "37                2018-05-23  Балашова   Елена  Капитоновна  "
      ]
     },
     "execution_count": 48,
     "metadata": {},
     "output_type": "execute_result"
    }
   ],
   "source": [
    "# Построить диаграмму, которая показывает сколько \n",
    "# тренеров прошли обучения по месяцам\n",
    "data[data['Дата прохождения тренинга'] <= '2018-10-01'].head(2)"
   ]
  },
  {
   "cell_type": "code",
   "execution_count": 49,
   "id": "696525d2",
   "metadata": {},
   "outputs": [
    {
     "data": {
      "text/plain": [
       "array([ 5,  6,  9, 10, 12])"
      ]
     },
     "execution_count": 49,
     "metadata": {},
     "output_type": "execute_result"
    }
   ],
   "source": [
    "data['Дата прохождения тренинга'].dt.month.dropna().astype('int').unique()"
   ]
  },
  {
   "cell_type": "code",
   "execution_count": 50,
   "id": "800f05f1",
   "metadata": {},
   "outputs": [],
   "source": [
    "import matplotlib.pyplot as plt"
   ]
  },
  {
   "cell_type": "code",
   "execution_count": 51,
   "id": "6a16b59c",
   "metadata": {},
   "outputs": [
    {
     "data": {
      "image/png": "[encoded data removed]",
      "text/plain": [
       "<Figure size 640x480 with 1 Axes>"
      ]
     },
     "metadata": {},
     "output_type": "display_data"
    }
   ],
   "source": [
    "data.groupby(data['Дата прохождения тренинга'].\\\n",
    "             dt.month_name())['Преподаватели'].count().\\\n",
    "             plot.bar()\n",
    "plt.show()"
   ]
  },
  {
   "cell_type": "markdown",
   "id": "e9c08241",
   "metadata": {},
   "source": [
    "## Визуализация данных. Matplotlib"
   ]
  },
  {
   "cell_type": "code",
   "execution_count": 52,
   "id": "236714c4",
   "metadata": {},
   "outputs": [],
   "source": [
    "# Подключение бибилиотек\n",
    "import matplotlib.pyplot as plt\n",
    "import random"
   ]
  },
  {
   "cell_type": "code",
   "execution_count": 74,
   "id": "1740c6ff",
   "metadata": {},
   "outputs": [
    {
     "name": "stdout",
     "output_type": "stream",
     "text": [
      "[0, 1, 2, 3, 4, 5, 6, 7, 8, 9] [2, 2, 4, 4, 9, 1, 6, 9, 4, 1]\n"
     ]
    }
   ],
   "source": [
    "# Вывод гистограммы\n",
    "x = list(range(10))\n",
    "y = [random.randint(1,10) for _ in x]\n",
    "print(x,y)\n",
    "\n",
    "#plt.plot(x, y)\n",
    "#plt.scatter(x, y, color='red')\n",
    "#plt.barh(x, y)\n",
    "#plt.hist(y)\n",
    "#plt.pie(y)\n",
    "#plt.show()"
   ]
  },
  {
   "cell_type": "code",
   "execution_count": 54,
   "id": "00ea7fcd",
   "metadata": {},
   "outputs": [
    {
     "data": {
      "image/png": "[encoded data removed]",
      "text/plain": [
       "<Figure size 640x480 with 1 Axes>"
      ]
     },
     "metadata": {},
     "output_type": "display_data"
    }
   ],
   "source": [
    "#Линейный график\n",
    "plt.plot(x, y)\n",
    "plt.show()"
   ]
  },
  {
   "cell_type": "code",
   "execution_count": 55,
   "id": "f77b86a0",
   "metadata": {},
   "outputs": [
    {
     "data": {
      "image/png": "[encoded data removed]",
      "text/plain": [
       "<Figure size 640x480 with 1 Axes>"
      ]
     },
     "metadata": {},
     "output_type": "display_data"
    }
   ],
   "source": [
    "#Точечный график\n",
    "plt.scatter(x, y, color='red')\n",
    "plt.show()"
   ]
  },
  {
   "cell_type": "code",
   "execution_count": 56,
   "id": "a2bcdc81",
   "metadata": {},
   "outputs": [
    {
     "data": {
      "image/png": "[encoded data removed]",
      "text/plain": [
       "<Figure size 640x480 with 1 Axes>"
      ]
     },
     "metadata": {},
     "output_type": "display_data"
    }
   ],
   "source": [
    "#Объединенный график\n",
    "plt.plot(x, y)\n",
    "plt.scatter(x, y, color='red')\n",
    "plt.show()"
   ]
  },
  {
   "cell_type": "code",
   "execution_count": 57,
   "id": "e9e15cc9",
   "metadata": {},
   "outputs": [
    {
     "data": {
      "image/png": "[encoded data removed]",
      "text/plain": [
       "<Figure size 640x480 with 1 Axes>"
      ]
     },
     "metadata": {},
     "output_type": "display_data"
    }
   ],
   "source": [
    "#Столбчатые диаграммы \n",
    "plt.barh(x, y)\n",
    "plt.show()"
   ]
  },
  {
   "cell_type": "code",
   "execution_count": 58,
   "id": "85b1cf90",
   "metadata": {},
   "outputs": [
    {
     "data": {
      "image/png": "[encoded data removed]",
      "text/plain": [
       "<Figure size 640x480 with 1 Axes>"
      ]
     },
     "metadata": {},
     "output_type": "display_data"
    }
   ],
   "source": [
    "plt.bar(x, y)\n",
    "plt.show()"
   ]
  },
  {
   "cell_type": "code",
   "execution_count": 59,
   "id": "c0c102f1",
   "metadata": {},
   "outputs": [
    {
     "data": {
      "image/png": "[encoded data removed]",
      "text/plain": [
       "<Figure size 640x480 with 1 Axes>"
      ]
     },
     "metadata": {},
     "output_type": "display_data"
    }
   ],
   "source": [
    "plt.hist(y)\n",
    "plt.show()"
   ]
  },
  {
   "cell_type": "code",
   "execution_count": 60,
   "id": "21456d01",
   "metadata": {},
   "outputs": [
    {
     "data": {
      "image/png": "[encoded data removed]",
      "text/plain": [
       "<Figure size 640x480 with 1 Axes>"
      ]
     },
     "metadata": {},
     "output_type": "display_data"
    }
   ],
   "source": [
    "#Круговые диаграммы\n",
    "plt.pie(y)\n",
    "plt.show()"
   ]
  },
  {
   "cell_type": "code",
   "execution_count": 61,
   "id": "0b077172",
   "metadata": {},
   "outputs": [
    {
     "data": {
      "image/png": "[encoded data removed]",
      "text/plain": [
       "<Figure size 1500x500 with 1 Axes>"
      ]
     },
     "metadata": {},
     "output_type": "display_data"
    }
   ],
   "source": [
    "#Средний возраст участников по годам\n",
    "df.groupby('Year')['Age'].mean()[:10].plot(kind='bar', figsize=[15,5])\n",
    "plt.show()"
   ]
  },
  {
   "cell_type": "code",
   "execution_count": 62,
   "id": "3eafd15d",
   "metadata": {},
   "outputs": [
    {
     "data": {
      "image/png": "[encoded data removed]",
      "text/plain": [
       "<Figure size 640x480 with 1 Axes>"
      ]
     },
     "metadata": {},
     "output_type": "display_data"
    }
   ],
   "source": [
    "#Средние показатели веса и роста по годам.\n",
    "df_y = df.groupby('Year')[['Weight','Height']].mean()\n",
    "df_y[df_y.index>2000].plot.bar(xlabel = 'Год',\n",
    "                              ylabel = 'Среднее значение веса и роста',\n",
    "                              title = 'Физические параметры спортсменов',\n",
    "                              color = ['red','yellow'])\n",
    "plt.show()"
   ]
  },
  {
   "cell_type": "code",
   "execution_count": 63,
   "id": "f8222a52",
   "metadata": {},
   "outputs": [
    {
     "data": {
      "image/png": "[encoded data removed]",
      "text/plain": [
       "<Figure size 640x480 with 1 Axes>"
      ]
     },
     "metadata": {},
     "output_type": "display_data"
    }
   ],
   "source": [
    "#Вывести диаграмму с количеством мужчин и женщин на последней олимпиаде\n",
    "df[df['Year'].isin([df['Year'].max(),df['Year'].min()])].groupby('Year')['Sex'].value_counts().plot.pie()\n",
    "plt.show()"
   ]
  },
  {
   "cell_type": "code",
   "execution_count": 64,
   "id": "ed582e26",
   "metadata": {},
   "outputs": [
    {
     "data": {
      "image/png": "[encoded data removed]",
      "text/plain": [
       "<Figure size 640x480 with 1 Axes>"
      ]
     },
     "metadata": {},
     "output_type": "display_data"
    }
   ],
   "source": [
    "df[df['Year'].isin([df['Year'].max(),df['Year'].min()])].groupby(['Year','Sex'])['ID'].count().plot.bar()\n",
    "plt.show()"
   ]
  },
  {
   "cell_type": "markdown",
   "id": "6ee7ab8d",
   "metadata": {},
   "source": [
    "## Диаграммы searbotn\n",
    "\n",
    "Парные диаграммы pairplot используют для сравнения распределения пар числовых переменных, этот метод создает сетку точечных диаграмм. он также содержит гистограмму для каждой функции в диагональных прямоугольниках."
   ]
  },
  {
   "cell_type": "code",
   "execution_count": 66,
   "id": "a0b5bd59",
   "metadata": {},
   "outputs": [
    {
     "name": "stderr",
     "output_type": "stream",
     "text": [
      "D:\\programs\\ANC\\Lib\\site-packages\\seaborn\\axisgrid.py:118: UserWarning: The figure layout has changed to tight\n",
      "  self._figure.tight_layout(*args, **kwargs)\n"
     ]
    },
    {
     "data": {
      "text/plain": [
       "<Figure size 1800x800 with 0 Axes>"
      ]
     },
     "metadata": {},
     "output_type": "display_data"
    },
    {
     "data": {
      "image/png": "[encoded data removed]",
      "text/plain": [
       "<Figure size 500x500 with 6 Axes>"
      ]
     },
     "metadata": {},
     "output_type": "display_data"
    }
   ],
   "source": [
    "import seaborn as sns\n",
    "#Парные диаграммы  import seaborn as sns\n",
    "plt.figure(figsize=(18,8))\n",
    "sns.pairplot(df[['Age','Weight']])  #сиситема строит гистограмму. участники в основном молодые.\n",
    "plt.show() "
   ]
  },
  {
   "cell_type": "markdown",
   "id": "9d645601",
   "metadata": {},
   "source": [
    "## Тепловая карта.\n",
    "Как считается кореляция. \n"
   ]
  },
  {
   "cell_type": "code",
   "execution_count": 69,
   "id": "7460f510",
   "metadata": {},
   "outputs": [
    {
     "data": {
      "text/html": [
       "<div>\n",
       "<style scoped>\n",
       "    .dataframe tbody tr th:only-of-type {\n",
       "        vertical-align: middle;\n",
       "    }\n",
       "\n",
       "    .dataframe tbody tr th {\n",
       "        vertical-align: top;\n",
       "    }\n",
       "\n",
       "    .dataframe thead th {\n",
       "        text-align: right;\n",
       "    }\n",
       "</style>\n",
       "<table border=\"1\" class=\"dataframe\">\n",
       "  <thead>\n",
       "    <tr style=\"text-align: right;\">\n",
       "      <th></th>\n",
       "      <th>Age</th>\n",
       "      <th>Weight</th>\n",
       "      <th>Height</th>\n",
       "    </tr>\n",
       "  </thead>\n",
       "  <tbody>\n",
       "    <tr>\n",
       "      <th>Age</th>\n",
       "      <td>1.000000</td>\n",
       "      <td>0.212069</td>\n",
       "      <td>0.138246</td>\n",
       "    </tr>\n",
       "    <tr>\n",
       "      <th>Weight</th>\n",
       "      <td>0.212069</td>\n",
       "      <td>1.000000</td>\n",
       "      <td>0.796213</td>\n",
       "    </tr>\n",
       "    <tr>\n",
       "      <th>Height</th>\n",
       "      <td>0.138246</td>\n",
       "      <td>0.796213</td>\n",
       "      <td>1.000000</td>\n",
       "    </tr>\n",
       "  </tbody>\n",
       "</table>\n",
       "</div>"
      ],
      "text/plain": [
       "             Age    Weight    Height\n",
       "Age     1.000000  0.212069  0.138246\n",
       "Weight  0.212069  1.000000  0.796213\n",
       "Height  0.138246  0.796213  1.000000"
      ]
     },
     "execution_count": 69,
     "metadata": {},
     "output_type": "execute_result"
    }
   ],
   "source": [
    "df[['Age','Weight','Height']].corr() #набор столбов для который считается кореляция.\n"
   ]
  },
  {
   "cell_type": "code",
   "execution_count": 71,
   "id": "488c4f81",
   "metadata": {},
   "outputs": [
    {
     "data": {
      "text/plain": [
       "<Axes: >"
      ]
     },
     "execution_count": 71,
     "metadata": {},
     "output_type": "execute_result"
    },
    {
     "data": {
      "image/png": "[encoded data removed]",
      "text/plain": [
       "<Figure size 640x480 with 2 Axes>"
      ]
     },
     "metadata": {},
     "output_type": "display_data"
    }
   ],
   "source": [
    "#тепловая карта удобней\n",
    "sns.heatmap(df[['Age','Weight','Height']].corr())"
   ]
  },
  {
   "cell_type": "code",
   "execution_count": 72,
   "id": "664c2e62",
   "metadata": {},
   "outputs": [
    {
     "data": {
      "text/plain": [
       "<Axes: xlabel='Year'>"
      ]
     },
     "execution_count": 72,
     "metadata": {},
     "output_type": "execute_result"
    },
    {
     "data": {
      "image/png": "[encoded data removed]",
      "text/plain": [
       "<Figure size 640x480 with 1 Axes>"
      ]
     },
     "metadata": {},
     "output_type": "display_data"
    }
   ],
   "source": [
    "#Линейный график\n",
    "part_count_year = df['Year'].value_counts().sort_index().tail(5)\n",
    "sns.lineplot(x=part_count_year.index, y = part_count_year.values)"
   ]
  },
  {
   "cell_type": "markdown",
   "id": "23e51b72",
   "metadata": {},
   "source": [
    "## Ящик с усами\n",
    "Ящик с усами визуализирует распределение между числовыми и категориальными переменными, отображая информацию о квартилях.\n"
   ]
  },
  {
   "cell_type": "code",
   "execution_count": 85,
   "id": "9aec7f19",
   "metadata": {},
   "outputs": [
    {
     "data": {
      "text/plain": [
       "<Axes: >"
      ]
     },
     "execution_count": 85,
     "metadata": {},
     "output_type": "execute_result"
    },
    {
     "data": {
      "image/png": "[encoded data removed]",
      "text/plain": [
       "<Figure size 640x480 with 1 Axes>"
      ]
     },
     "metadata": {},
     "output_type": "display_data"
    }
   ],
   "source": [
    "sns.boxplot(df=df[['Age', 'Weight', 'Height']])"
   ]
  },
  {
   "cell_type": "code",
   "execution_count": 86,
   "id": "a1c73cb3",
   "metadata": {},
   "outputs": [
    {
     "data": {
      "text/plain": [
       "<Axes: xlabel='Year', ylabel='Age'>"
      ]
     },
     "execution_count": 86,
     "metadata": {},
     "output_type": "execute_result"
    },
    {
     "data": {
      "image/png": "[encoded data removed]",
      "text/plain": [
       "<Figure size 1800x800 with 1 Axes>"
      ]
     },
     "metadata": {},
     "output_type": "display_data"
    }
   ],
   "source": [
    "#возраст по годам\n",
    "plt.figure(figsize=(18,8))\n",
    "sns.boxplot(x=df['Year'],y=df['Age'])"
   ]
  },
  {
   "cell_type": "code",
   "execution_count": null,
   "id": "91c49a20",
   "metadata": {},
   "outputs": [],
   "source": []
  }
 ],
 "metadata": {
  "kernelspec": {
   "display_name": "Python 3 (ipykernel)",
   "language": "python",
   "name": "python3"
  },
  "language_info": {
   "codemirror_mode": {
    "name": "ipython",
    "version": 3
   },
   "file_extension": ".py",
   "mimetype": "text/x-python",
   "name": "python",
   "nbconvert_exporter": "python",
   "pygments_lexer": "ipython3",
   "version": "3.11.5"
  }
 },
 "nbformat": 4,
 "nbformat_minor": 5
}
